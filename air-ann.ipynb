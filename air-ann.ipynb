{
 "cells": [
  {
   "cell_type": "code",
   "execution_count": 1,
   "id": "bb64e934",
   "metadata": {},
   "outputs": [],
   "source": [
    "import numpy as np\n",
    "import pandas as pd\n",
    "import time\n",
    "\n",
    "import matplotlib.pyplot as plt\n",
    "import seaborn as sns\n",
    "\n",
    "from sklearn.metrics import mean_squared_error,r2_score\n",
    "from sklearn.preprocessing import MinMaxScaler,StandardScaler\n",
    "\n",
    "import tensorflow as tf\n",
    "from tensorflow.keras.models import Sequential\n",
    "from tensorflow.keras.layers import Dense,Dropout,Activation\n",
    "from keras import optimizers\n",
    "import datetime\n",
    "\n"
   ]
  },
  {
   "cell_type": "code",
   "execution_count": 2,
   "id": "a375b36b",
   "metadata": {},
   "outputs": [],
   "source": [
    "data = pd.read_csv('air-quality(1).csv')"
   ]
  },
  {
   "cell_type": "code",
   "execution_count": 3,
   "id": "ff29c010",
   "metadata": {
    "scrolled": true
   },
   "outputs": [
    {
     "data": {
      "text/html": [
       "<div>\n",
       "<style scoped>\n",
       "    .dataframe tbody tr th:only-of-type {\n",
       "        vertical-align: middle;\n",
       "    }\n",
       "\n",
       "    .dataframe tbody tr th {\n",
       "        vertical-align: top;\n",
       "    }\n",
       "\n",
       "    .dataframe thead th {\n",
       "        text-align: right;\n",
       "    }\n",
       "</style>\n",
       "<table border=\"1\" class=\"dataframe\">\n",
       "  <thead>\n",
       "    <tr style=\"text-align: right;\">\n",
       "      <th></th>\n",
       "      <th>Last_Check</th>\n",
       "      <th>Current_Particulate_Matter_2_5_</th>\n",
       "      <th>PM_2_5_10_Minute_Avg_</th>\n",
       "      <th>PM_2_5_30_Minute_Avg_</th>\n",
       "      <th>PM_2_5_1_Hour_Avg_</th>\n",
       "      <th>PM_2_5_6_Hour_Avg_</th>\n",
       "      <th>PM_2_5_24_Hour_Avg_</th>\n",
       "      <th>PM_2_5_One_Week_Avg_</th>\n",
       "      <th>Temp__F_</th>\n",
       "      <th>Humidity____</th>\n",
       "      <th>Pressure__mbar_</th>\n",
       "      <th>Uptime__Seconds_</th>\n",
       "      <th>RSSI__WiFi_signal_strength_dBm_</th>\n",
       "      <th>Age_of_Data_at_Check__minutes_</th>\n",
       "      <th>ObjectId</th>\n",
       "    </tr>\n",
       "  </thead>\n",
       "  <tbody>\n",
       "    <tr>\n",
       "      <th>0</th>\n",
       "      <td>2018/09/27 19:48:03+00</td>\n",
       "      <td>22.48</td>\n",
       "      <td>22.05</td>\n",
       "      <td>18.33</td>\n",
       "      <td>15.50</td>\n",
       "      <td>10.25</td>\n",
       "      <td>11.44</td>\n",
       "      <td>13.81</td>\n",
       "      <td>88</td>\n",
       "      <td>59</td>\n",
       "      <td>1002.78</td>\n",
       "      <td>3060</td>\n",
       "      <td>-84</td>\n",
       "      <td>1.0</td>\n",
       "      <td>1</td>\n",
       "    </tr>\n",
       "    <tr>\n",
       "      <th>1</th>\n",
       "      <td>2018/09/27 19:59:52+00</td>\n",
       "      <td>23.00</td>\n",
       "      <td>22.47</td>\n",
       "      <td>19.20</td>\n",
       "      <td>16.24</td>\n",
       "      <td>10.46</td>\n",
       "      <td>11.49</td>\n",
       "      <td>13.82</td>\n",
       "      <td>88</td>\n",
       "      <td>58</td>\n",
       "      <td>1003.02</td>\n",
       "      <td>3770</td>\n",
       "      <td>-84</td>\n",
       "      <td>0.0</td>\n",
       "      <td>2</td>\n",
       "    </tr>\n",
       "    <tr>\n",
       "      <th>2</th>\n",
       "      <td>2018/10/02 14:43:38+00</td>\n",
       "      <td>9.32</td>\n",
       "      <td>10.53</td>\n",
       "      <td>13.64</td>\n",
       "      <td>15.65</td>\n",
       "      <td>18.14</td>\n",
       "      <td>14.53</td>\n",
       "      <td>12.89</td>\n",
       "      <td>86</td>\n",
       "      <td>55</td>\n",
       "      <td>1011.93</td>\n",
       "      <td>7123</td>\n",
       "      <td>-92</td>\n",
       "      <td>0.0</td>\n",
       "      <td>3</td>\n",
       "    </tr>\n",
       "  </tbody>\n",
       "</table>\n",
       "</div>"
      ],
      "text/plain": [
       "               Last_Check  Current_Particulate_Matter_2_5_  \\\n",
       "0  2018/09/27 19:48:03+00                            22.48   \n",
       "1  2018/09/27 19:59:52+00                            23.00   \n",
       "2  2018/10/02 14:43:38+00                             9.32   \n",
       "\n",
       "   PM_2_5_10_Minute_Avg_  PM_2_5_30_Minute_Avg_  PM_2_5_1_Hour_Avg_  \\\n",
       "0                  22.05                  18.33               15.50   \n",
       "1                  22.47                  19.20               16.24   \n",
       "2                  10.53                  13.64               15.65   \n",
       "\n",
       "   PM_2_5_6_Hour_Avg_  PM_2_5_24_Hour_Avg_  PM_2_5_One_Week_Avg_  Temp__F_  \\\n",
       "0               10.25                11.44                 13.81        88   \n",
       "1               10.46                11.49                 13.82        88   \n",
       "2               18.14                14.53                 12.89        86   \n",
       "\n",
       "   Humidity____  Pressure__mbar_  Uptime__Seconds_  \\\n",
       "0            59          1002.78              3060   \n",
       "1            58          1003.02              3770   \n",
       "2            55          1011.93              7123   \n",
       "\n",
       "   RSSI__WiFi_signal_strength_dBm_  Age_of_Data_at_Check__minutes_  ObjectId  \n",
       "0                              -84                             1.0         1  \n",
       "1                              -84                             0.0         2  \n",
       "2                              -92                             0.0         3  "
      ]
     },
     "execution_count": 3,
     "metadata": {},
     "output_type": "execute_result"
    }
   ],
   "source": [
    "data.head(3)"
   ]
  },
  {
   "cell_type": "code",
   "execution_count": 4,
   "id": "4e6f8f1a",
   "metadata": {},
   "outputs": [
    {
     "data": {
      "text/html": [
       "<div>\n",
       "<style scoped>\n",
       "    .dataframe tbody tr th:only-of-type {\n",
       "        vertical-align: middle;\n",
       "    }\n",
       "\n",
       "    .dataframe tbody tr th {\n",
       "        vertical-align: top;\n",
       "    }\n",
       "\n",
       "    .dataframe thead th {\n",
       "        text-align: right;\n",
       "    }\n",
       "</style>\n",
       "<table border=\"1\" class=\"dataframe\">\n",
       "  <thead>\n",
       "    <tr style=\"text-align: right;\">\n",
       "      <th></th>\n",
       "      <th>Last_Check</th>\n",
       "      <th>Current_Particulate_Matter_2_5_</th>\n",
       "      <th>PM_2_5_10_Minute_Avg_</th>\n",
       "      <th>PM_2_5_30_Minute_Avg_</th>\n",
       "      <th>PM_2_5_1_Hour_Avg_</th>\n",
       "      <th>PM_2_5_6_Hour_Avg_</th>\n",
       "      <th>PM_2_5_24_Hour_Avg_</th>\n",
       "      <th>PM_2_5_One_Week_Avg_</th>\n",
       "      <th>Temp__F_</th>\n",
       "      <th>Humidity____</th>\n",
       "      <th>Pressure__mbar_</th>\n",
       "      <th>Uptime__Seconds_</th>\n",
       "      <th>RSSI__WiFi_signal_strength_dBm_</th>\n",
       "      <th>Age_of_Data_at_Check__minutes_</th>\n",
       "      <th>ObjectId</th>\n",
       "    </tr>\n",
       "  </thead>\n",
       "  <tbody>\n",
       "    <tr>\n",
       "      <th>12486</th>\n",
       "      <td>2019/11/06 19:02:21+00</td>\n",
       "      <td>3332.41</td>\n",
       "      <td>12.48</td>\n",
       "      <td>12.34</td>\n",
       "      <td>11.95</td>\n",
       "      <td>12.03</td>\n",
       "      <td>15.05</td>\n",
       "      <td>15.11</td>\n",
       "      <td>72</td>\n",
       "      <td>34</td>\n",
       "      <td>1015.48</td>\n",
       "      <td>77892</td>\n",
       "      <td>-83</td>\n",
       "      <td>NaN</td>\n",
       "      <td>12139</td>\n",
       "    </tr>\n",
       "    <tr>\n",
       "      <th>12487</th>\n",
       "      <td>2019/11/06 20:02:51+00</td>\n",
       "      <td>3333.78</td>\n",
       "      <td>12.48</td>\n",
       "      <td>12.34</td>\n",
       "      <td>11.95</td>\n",
       "      <td>12.03</td>\n",
       "      <td>15.05</td>\n",
       "      <td>15.11</td>\n",
       "      <td>72</td>\n",
       "      <td>34</td>\n",
       "      <td>1015.40</td>\n",
       "      <td>81522</td>\n",
       "      <td>-77</td>\n",
       "      <td>NaN</td>\n",
       "      <td>12140</td>\n",
       "    </tr>\n",
       "    <tr>\n",
       "      <th>12488</th>\n",
       "      <td>2019/11/06 20:54:27+00</td>\n",
       "      <td>3332.94</td>\n",
       "      <td>12.48</td>\n",
       "      <td>12.34</td>\n",
       "      <td>11.95</td>\n",
       "      <td>12.03</td>\n",
       "      <td>15.05</td>\n",
       "      <td>15.11</td>\n",
       "      <td>71</td>\n",
       "      <td>36</td>\n",
       "      <td>1015.21</td>\n",
       "      <td>120</td>\n",
       "      <td>-79</td>\n",
       "      <td>NaN</td>\n",
       "      <td>12141</td>\n",
       "    </tr>\n",
       "  </tbody>\n",
       "</table>\n",
       "</div>"
      ],
      "text/plain": [
       "                   Last_Check  Current_Particulate_Matter_2_5_  \\\n",
       "12486  2019/11/06 19:02:21+00                          3332.41   \n",
       "12487  2019/11/06 20:02:51+00                          3333.78   \n",
       "12488  2019/11/06 20:54:27+00                          3332.94   \n",
       "\n",
       "       PM_2_5_10_Minute_Avg_  PM_2_5_30_Minute_Avg_  PM_2_5_1_Hour_Avg_  \\\n",
       "12486                  12.48                  12.34               11.95   \n",
       "12487                  12.48                  12.34               11.95   \n",
       "12488                  12.48                  12.34               11.95   \n",
       "\n",
       "       PM_2_5_6_Hour_Avg_  PM_2_5_24_Hour_Avg_  PM_2_5_One_Week_Avg_  \\\n",
       "12486               12.03                15.05                 15.11   \n",
       "12487               12.03                15.05                 15.11   \n",
       "12488               12.03                15.05                 15.11   \n",
       "\n",
       "       Temp__F_  Humidity____  Pressure__mbar_  Uptime__Seconds_  \\\n",
       "12486        72            34          1015.48             77892   \n",
       "12487        72            34          1015.40             81522   \n",
       "12488        71            36          1015.21               120   \n",
       "\n",
       "       RSSI__WiFi_signal_strength_dBm_  Age_of_Data_at_Check__minutes_  \\\n",
       "12486                              -83                             NaN   \n",
       "12487                              -77                             NaN   \n",
       "12488                              -79                             NaN   \n",
       "\n",
       "       ObjectId  \n",
       "12486     12139  \n",
       "12487     12140  \n",
       "12488     12141  "
      ]
     },
     "execution_count": 4,
     "metadata": {},
     "output_type": "execute_result"
    }
   ],
   "source": [
    "data.tail(3)"
   ]
  },
  {
   "cell_type": "code",
   "execution_count": 5,
   "id": "30af9f3f",
   "metadata": {},
   "outputs": [],
   "source": [
    "data_selec = data[:11390]"
   ]
  },
  {
   "cell_type": "code",
   "execution_count": null,
   "id": "fce28af9",
   "metadata": {},
   "outputs": [],
   "source": []
  },
  {
   "cell_type": "code",
   "execution_count": 6,
   "id": "efbd244d",
   "metadata": {},
   "outputs": [
    {
     "data": {
      "text/plain": [
       "(11390, 15)"
      ]
     },
     "execution_count": 6,
     "metadata": {},
     "output_type": "execute_result"
    }
   ],
   "source": [
    "data_selec.shape"
   ]
  },
  {
   "cell_type": "code",
   "execution_count": 7,
   "id": "4cfb6281",
   "metadata": {},
   "outputs": [],
   "source": [
    "train = data_selec[:8000]\n",
    "rest = data_selec[8000:]\n",
    "val = rest[:int(len(rest)*0.5)]\n",
    "test = rest[int(len(rest)*0.5):]"
   ]
  },
  {
   "cell_type": "code",
   "execution_count": 8,
   "id": "61b9cf5d",
   "metadata": {},
   "outputs": [
    {
     "data": {
      "image/png": "[encoded data removed]",
      "text/plain": [
       "<Figure size 1440x360 with 1 Axes>"
      ]
     },
     "metadata": {
      "needs_background": "light"
     },
     "output_type": "display_data"
    }
   ],
   "source": [
    "sns.reset_orig()\n",
    "plt.figure(figsize = (20,5))\n",
    "plt.title('Current_Particulate_Matter_2_5_', fontsize = 20)\n",
    "plt.plot(train['Current_Particulate_Matter_2_5_'], label = 'train')\n",
    "plt.plot(val['Current_Particulate_Matter_2_5_'], label = 'val')\n",
    "plt.plot(test['Current_Particulate_Matter_2_5_'], label = 'test')\n",
    "\n",
    "plt.legend(fontsize = 10)\n",
    "plt.show()"
   ]
  },
  {
   "cell_type": "code",
   "execution_count": 9,
   "id": "1d4a0304",
   "metadata": {},
   "outputs": [],
   "source": [
    "X_train = train.drop(columns = {'Current_Particulate_Matter_2_5_', 'Last_Check','Age_of_Data_at_Check__minutes_'}, axis = 1)\n",
    "y_train = train.loc[:, ['Current_Particulate_Matter_2_5_']]\n",
    "\n",
    "X_val = val.drop(columns = {'Current_Particulate_Matter_2_5_', 'Last_Check','Age_of_Data_at_Check__minutes_'}, axis = 1)\n",
    "y_val = val.loc[:, ['Current_Particulate_Matter_2_5_']]\n",
    "\n",
    "X_test = test.drop(columns = {'Current_Particulate_Matter_2_5_', 'Last_Check','Age_of_Data_at_Check__minutes_'}, axis = 1)\n",
    "y_test = test.loc[:, ['Current_Particulate_Matter_2_5_']]"
   ]
  },
  {
   "cell_type": "code",
   "execution_count": 10,
   "id": "2b44c313",
   "metadata": {},
   "outputs": [
    {
     "name": "stdout",
     "output_type": "stream",
     "text": [
      "(8000, 12)\n",
      "(1695, 12)\n",
      "(1695, 12)\n"
     ]
    }
   ],
   "source": [
    "print(X_train.shape)\n",
    "print(X_val.shape)\n",
    "print(X_test.shape)"
   ]
  },
  {
   "cell_type": "code",
   "execution_count": 11,
   "id": "05af2950",
   "metadata": {},
   "outputs": [],
   "source": [
    "y_train = np.array(y_train)\n",
    "y_val = np.array(y_val)\n",
    "y_test = np.array(y_test)"
   ]
  },
  {
   "cell_type": "code",
   "execution_count": 12,
   "id": "abd1d2c6",
   "metadata": {},
   "outputs": [],
   "source": [
    "scaler = StandardScaler()\n",
    "x_train = scaler.fit_transform(X_train)\n",
    "x_val = scaler.transform(X_val)\n",
    "x_test = scaler.transform(X_test)"
   ]
  },
  {
   "cell_type": "code",
   "execution_count": 13,
   "id": "4f4d0378",
   "metadata": {},
   "outputs": [],
   "source": [
    "def getModel():\n",
    "    model = Sequential()\n",
    "    model.add(Dense(50,input_shape = (12,)))\n",
    "    model.add(Activation('relu'))\n",
    "    model.add(Dense(50))\n",
    "    model.add(Activation('relu'))\n",
    "    model.add(Dense(120))\n",
    "    model.add(Activation('linear'))\n",
    "    model.add(Dense(1,activation='relu'))\n",
    "    model.compile(loss='mse',optimizer='adam')\n",
    "    print(model.summary())\n",
    "    return model"
   ]
  },
  {
   "cell_type": "code",
   "execution_count": 14,
   "id": "512b54fe",
   "metadata": {},
   "outputs": [
    {
     "name": "stdout",
     "output_type": "stream",
     "text": [
      "Model: \"sequential\"\n",
      "_________________________________________________________________\n",
      " Layer (type)                Output Shape              Param #   \n",
      "=================================================================\n",
      " dense (Dense)               (None, 50)                650       \n",
      "                                                                 \n",
      " activation (Activation)     (None, 50)                0         \n",
      "                                                                 \n",
      " dense_1 (Dense)             (None, 50)                2550      \n",
      "                                                                 \n",
      " activation_1 (Activation)   (None, 50)                0         \n",
      "                                                                 \n",
      " dense_2 (Dense)             (None, 120)               6120      \n",
      "                                                                 \n",
      " activation_2 (Activation)   (None, 120)               0         \n",
      "                                                                 \n",
      " dense_3 (Dense)             (None, 1)                 121       \n",
      "                                                                 \n",
      "=================================================================\n",
      "Total params: 9,441\n",
      "Trainable params: 9,441\n",
      "Non-trainable params: 0\n",
      "_________________________________________________________________\n",
      "None\n"
     ]
    }
   ],
   "source": [
    "model = getModel()"
   ]
  },
  {
   "cell_type": "code",
   "execution_count": 15,
   "id": "3b95398a",
   "metadata": {
    "scrolled": true
   },
   "outputs": [
    {
     "name": "stdout",
     "output_type": "stream",
     "text": [
      "Epoch 1/50\n",
      "113/113 [==============================] - 0s 1ms/step - loss: 45.1051 - val_loss: 18.2061\n",
      "Epoch 2/50\n",
      "113/113 [==============================] - 0s 632us/step - loss: 6.3758 - val_loss: 9.2421\n",
      "Epoch 3/50\n",
      "113/113 [==============================] - 0s 632us/step - loss: 4.3221 - val_loss: 8.8122\n",
      "Epoch 4/50\n",
      "113/113 [==============================] - 0s 683us/step - loss: 3.2415 - val_loss: 4.9913\n",
      "Epoch 5/50\n",
      "113/113 [==============================] - 0s 641us/step - loss: 2.5208 - val_loss: 5.4067\n",
      "Epoch 6/50\n",
      "113/113 [==============================] - 0s 640us/step - loss: 2.1243 - val_loss: 3.7478\n",
      "Epoch 7/50\n",
      "113/113 [==============================] - 0s 641us/step - loss: 1.9564 - val_loss: 4.0359\n",
      "Epoch 8/50\n",
      "113/113 [==============================] - 0s 631us/step - loss: 1.9083 - val_loss: 3.7239\n",
      "Epoch 9/50\n",
      "113/113 [==============================] - 0s 626us/step - loss: 1.8363 - val_loss: 3.7387\n",
      "Epoch 10/50\n",
      "113/113 [==============================] - 0s 677us/step - loss: 1.7730 - val_loss: 3.6242\n",
      "Epoch 11/50\n",
      "113/113 [==============================] - 0s 677us/step - loss: 1.7502 - val_loss: 3.6731\n",
      "Epoch 12/50\n",
      "113/113 [==============================] - 0s 659us/step - loss: 1.7186 - val_loss: 3.8910\n",
      "Epoch 13/50\n",
      "113/113 [==============================] - 0s 623us/step - loss: 1.7119 - val_loss: 3.6733\n",
      "Epoch 14/50\n",
      "113/113 [==============================] - 0s 641us/step - loss: 1.6608 - val_loss: 3.9787\n",
      "Epoch 15/50\n",
      "113/113 [==============================] - 0s 623us/step - loss: 1.6504 - val_loss: 4.4222\n",
      "Epoch 16/50\n",
      "113/113 [==============================] - 0s 632us/step - loss: 1.6200 - val_loss: 3.6275\n",
      "Epoch 17/50\n",
      "113/113 [==============================] - 0s 632us/step - loss: 1.6440 - val_loss: 4.3644\n",
      "Epoch 18/50\n",
      "113/113 [==============================] - 0s 629us/step - loss: 1.6699 - val_loss: 3.7090\n",
      "Epoch 19/50\n",
      "113/113 [==============================] - 0s 641us/step - loss: 1.5636 - val_loss: 3.8779\n",
      "Epoch 20/50\n",
      "113/113 [==============================] - 0s 632us/step - loss: 1.6684 - val_loss: 3.6912\n",
      "Epoch 21/50\n",
      "113/113 [==============================] - 0s 632us/step - loss: 1.5595 - val_loss: 4.3534\n",
      "Epoch 22/50\n",
      "113/113 [==============================] - 0s 641us/step - loss: 1.5523 - val_loss: 3.7485\n",
      "Epoch 23/50\n",
      "113/113 [==============================] - 0s 641us/step - loss: 1.5208 - val_loss: 3.7071\n",
      "Epoch 24/50\n",
      "113/113 [==============================] - 0s 712us/step - loss: 1.5329 - val_loss: 3.8090\n",
      "Epoch 25/50\n",
      "113/113 [==============================] - 0s 650us/step - loss: 1.5282 - val_loss: 3.6323\n",
      "Epoch 26/50\n",
      "113/113 [==============================] - 0s 659us/step - loss: 1.4872 - val_loss: 3.6606\n",
      "Epoch 27/50\n",
      "113/113 [==============================] - 0s 623us/step - loss: 1.5074 - val_loss: 3.6177\n",
      "Epoch 28/50\n",
      "113/113 [==============================] - 0s 620us/step - loss: 1.4258 - val_loss: 3.6826\n",
      "Epoch 29/50\n",
      "113/113 [==============================] - 0s 614us/step - loss: 1.4127 - val_loss: 3.7117\n",
      "Epoch 30/50\n",
      "113/113 [==============================] - 0s 613us/step - loss: 1.4016 - val_loss: 3.4753\n",
      "Epoch 31/50\n",
      "113/113 [==============================] - 0s 632us/step - loss: 1.3941 - val_loss: 4.1353\n",
      "Epoch 32/50\n",
      "113/113 [==============================] - 0s 650us/step - loss: 1.3942 - val_loss: 3.9290\n",
      "Epoch 33/50\n",
      "113/113 [==============================] - 0s 677us/step - loss: 1.3698 - val_loss: 3.5650\n",
      "Epoch 34/50\n",
      "113/113 [==============================] - 0s 623us/step - loss: 1.3713 - val_loss: 3.4888\n",
      "Epoch 35/50\n",
      "113/113 [==============================] - 0s 623us/step - loss: 1.3595 - val_loss: 3.6644\n",
      "Epoch 36/50\n",
      "113/113 [==============================] - 0s 614us/step - loss: 1.3294 - val_loss: 3.7688\n",
      "Epoch 37/50\n",
      "113/113 [==============================] - 0s 614us/step - loss: 1.3294 - val_loss: 3.6873\n",
      "Epoch 38/50\n",
      "113/113 [==============================] - 0s 614us/step - loss: 1.3070 - val_loss: 4.0723\n",
      "Epoch 39/50\n",
      "113/113 [==============================] - 0s 623us/step - loss: 1.2841 - val_loss: 3.5111\n",
      "Epoch 40/50\n",
      "113/113 [==============================] - 0s 641us/step - loss: 1.2470 - val_loss: 3.6264\n",
      "Epoch 41/50\n",
      "113/113 [==============================] - 0s 677us/step - loss: 1.2677 - val_loss: 3.4852\n",
      "Epoch 42/50\n",
      "113/113 [==============================] - 0s 686us/step - loss: 1.2497 - val_loss: 3.6412\n",
      "Epoch 43/50\n",
      "113/113 [==============================] - 0s 695us/step - loss: 1.2622 - val_loss: 3.5575\n",
      "Epoch 44/50\n",
      "113/113 [==============================] - 0s 646us/step - loss: 1.2543 - val_loss: 3.5113\n",
      "Epoch 45/50\n",
      "113/113 [==============================] - 0s 659us/step - loss: 1.2510 - val_loss: 3.2981\n",
      "Epoch 46/50\n",
      "113/113 [==============================] - 0s 668us/step - loss: 1.1620 - val_loss: 3.7842\n",
      "Epoch 47/50\n",
      "113/113 [==============================] - 0s 641us/step - loss: 1.1854 - val_loss: 5.1739\n",
      "Epoch 48/50\n",
      "113/113 [==============================] - 0s 641us/step - loss: 1.1973 - val_loss: 3.5996\n",
      "Epoch 49/50\n",
      "113/113 [==============================] - 0s 664us/step - loss: 1.1626 - val_loss: 3.6573\n",
      "Epoch 50/50\n",
      "113/113 [==============================] - 0s 630us/step - loss: 1.1448 - val_loss: 3.7680\n"
     ]
    },
    {
     "data": {
      "text/plain": [
       "<keras.callbacks.History at 0x250ac796cd0>"
      ]
     },
     "execution_count": 15,
     "metadata": {},
     "output_type": "execute_result"
    }
   ],
   "source": [
    "model.fit(x_train,y_train,\n",
    "         batch_size=64,epochs=50,\n",
    "         verbose=1,validation_split=0.1,\n",
    "         validation_data=(x_val,y_val),shuffle=True)"
   ]
  },
  {
   "cell_type": "code",
   "execution_count": 16,
   "id": "7e973201",
   "metadata": {},
   "outputs": [
    {
     "name": "stdout",
     "output_type": "stream",
     "text": [
      "0.7775384570884488\n",
      "8.779560657906359\n"
     ]
    }
   ],
   "source": [
    "pred = model.predict(x_val)\n",
    "r2 = r2_score(pred,y_val)\n",
    "mse = mean_squared_error(pred,y_val)\n",
    "print(r2)\n",
    "print(mse)"
   ]
  },
  {
   "cell_type": "code",
   "execution_count": 17,
   "id": "90205624",
   "metadata": {},
   "outputs": [
    {
     "name": "stdout",
     "output_type": "stream",
     "text": [
      "0.8147123355770279\n",
      "7.267727665537712\n"
     ]
    }
   ],
   "source": [
    "pred = model.predict(x_test)\n",
    "r2=r2_score(pred,y_test)\n",
    "mse = mean_squared_error(pred,y_test)\n",
    "print(r2)\n",
    "print(mse)"
   ]
  },
  {
   "cell_type": "code",
   "execution_count": 18,
   "id": "288c3283",
   "metadata": {
    "scrolled": true
   },
   "outputs": [],
   "source": [
    "#pd.DataFrame(pred).to_csv('result.csv',index = False)"
   ]
  },
  {
   "cell_type": "code",
   "execution_count": null,
   "id": "cb1ee7f6",
   "metadata": {},
   "outputs": [],
   "source": []
  }
 ],
 "metadata": {
  "kernelspec": {
   "display_name": "Python 3 (ipykernel)",
   "language": "python",
   "name": "python3"
  },
  "language_info": {
   "codemirror_mode": {
    "name": "ipython",
    "version": 3
   },
   "file_extension": ".py",
   "mimetype": "text/x-python",
   "name": "python",
   "nbconvert_exporter": "python",
   "pygments_lexer": "ipython3",
   "version": "3.9.12"
  }
 },
 "nbformat": 4,
 "nbformat_minor": 5
}
