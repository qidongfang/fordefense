{
 "cells": [
  {
   "cell_type": "code",
   "execution_count": 86,
   "id": "71788450",
   "metadata": {},
   "outputs": [],
   "source": [
    "import numpy as np\n",
    "import pandas as pd\n",
    "import seaborn as sns\n",
    "import time\n",
    "\n",
    "from numpy import array\n",
    "\n",
    "from sklearn import preprocessing\n",
    "from sklearn.preprocessing import StandardScaler\n",
    "from sklearn.preprocessing import MinMaxScaler\n",
    "from sklearn.preprocessing import LabelEncoder\n",
    "from sklearn.metrics import accuracy_score\n",
    "from sklearn.metrics import mean_squared_error, r2_score\n",
    "\n",
    "import matplotlib.pyplot as plt\n",
    "\n",
    "import tensorflow as tf\n",
    "from tensorflow import keras\n",
    "from tensorflow.keras import regularizers #用正则化来防止过拟合\n",
    "from tensorflow.keras.layers import Dropout # Dropout 来解决过拟合问题\n",
    "from tensorflow.keras import Sequential\n",
    "from tensorflow.keras.layers import Dense,SimpleRNN, LSTM,GRU,Bidirectional\n",
    "from tensorflow.keras import optimizers\n"
   ]
  },
  {
   "cell_type": "code",
   "execution_count": 87,
   "id": "d1b4a18c",
   "metadata": {},
   "outputs": [
    {
     "name": "stdout",
     "output_type": "stream",
     "text": [
      "          No  year  month  day  hour  PM2.5  PM10   SO2   NO2     CO    O3  \\\n",
      "0          1  2013      3    1     0    3.0   6.0  13.0   7.0  300.0  85.0   \n",
      "1          2  2013      3    1     1    3.0   3.0   6.0   6.0  300.0  85.0   \n",
      "2          3  2013      3    1     2    3.0   3.0  22.0  13.0  400.0  74.0   \n",
      "3          4  2013      3    1     3    3.0   6.0  12.0   8.0  300.0  81.0   \n",
      "4          5  2013      3    1     4    3.0   3.0  14.0   8.0  300.0  81.0   \n",
      "...      ...   ...    ...  ...   ...    ...   ...   ...   ...    ...   ...   \n",
      "35059  35060  2017      2   28    19   28.0  47.0   4.0  14.0  300.0   NaN   \n",
      "35060  35061  2017      2   28    20   12.0  12.0   3.0  23.0  500.0  64.0   \n",
      "35061  35062  2017      2   28    21    7.0  23.0   5.0  17.0  500.0  68.0   \n",
      "35062  35063  2017      2   28    22   11.0  20.0   3.0  15.0  500.0  72.0   \n",
      "35063  35064  2017      2   28    23   20.0  25.0   6.0  28.0  900.0  54.0   \n",
      "\n",
      "       TEMP    PRES  DEWP  RAIN   wd  WSPM    station  \n",
      "0      -2.3  1020.8 -19.7   0.0    E   0.5  Changping  \n",
      "1      -2.5  1021.3 -19.0   0.0  ENE   0.7  Changping  \n",
      "2      -3.0  1021.3 -19.9   0.0  ENE   0.2  Changping  \n",
      "3      -3.6  1021.8 -19.1   0.0  NNE   1.0  Changping  \n",
      "4      -3.5  1022.3 -19.4   0.0    N   2.1  Changping  \n",
      "...     ...     ...   ...   ...  ...   ...        ...  \n",
      "35059  11.7  1008.9 -13.3   0.0  NNE   1.3  Changping  \n",
      "35060  10.9  1009.0 -14.0   0.0    N   2.1  Changping  \n",
      "35061   9.5  1009.4 -13.0   0.0    N   1.5  Changping  \n",
      "35062   7.8  1009.6 -12.6   0.0   NW   1.4  Changping  \n",
      "35063   7.0  1009.4 -12.2   0.0    N   1.9  Changping  \n",
      "\n",
      "[35064 rows x 18 columns]\n"
     ]
    }
   ],
   "source": [
    "df = pd.read_csv('/Users/qidongfang/Documents/learning/PRSA_Data_Changping_20130301-20170228.csv')\n",
    "print(df)"
   ]
  },
  {
   "cell_type": "code",
   "execution_count": 88,
   "id": "d8b9ff15",
   "metadata": {},
   "outputs": [
    {
     "name": "stdout",
     "output_type": "stream",
     "text": [
      "<class 'pandas.core.frame.DataFrame'>\n",
      "RangeIndex: 35064 entries, 0 to 35063\n",
      "Data columns (total 18 columns):\n",
      " #   Column   Non-Null Count  Dtype  \n",
      "---  ------   --------------  -----  \n",
      " 0   No       35064 non-null  int64  \n",
      " 1   year     35064 non-null  int64  \n",
      " 2   month    35064 non-null  int64  \n",
      " 3   day      35064 non-null  int64  \n",
      " 4   hour     35064 non-null  int64  \n",
      " 5   PM2.5    34290 non-null  float64\n",
      " 6   PM10     34482 non-null  float64\n",
      " 7   SO2      34436 non-null  float64\n",
      " 8   NO2      34397 non-null  float64\n",
      " 9   CO       33543 non-null  float64\n",
      " 10  O3       34460 non-null  float64\n",
      " 11  TEMP     35011 non-null  float64\n",
      " 12  PRES     35014 non-null  float64\n",
      " 13  DEWP     35011 non-null  float64\n",
      " 14  RAIN     35013 non-null  float64\n",
      " 15  wd       34924 non-null  object \n",
      " 16  WSPM     35021 non-null  float64\n",
      " 17  station  35064 non-null  object \n",
      "dtypes: float64(11), int64(5), object(2)\n",
      "memory usage: 4.8+ MB\n"
     ]
    }
   ],
   "source": [
    "# viewing info about the columns\n",
    "df.info()"
   ]
  },
  {
   "cell_type": "code",
   "execution_count": 89,
   "id": "7df3376f",
   "metadata": {},
   "outputs": [],
   "source": [
    "feature_column = 'wd' #确定需要处理的特征列名\n",
    "classes = df[feature_column].unique() #找出特征的不同类别"
   ]
  },
  {
   "cell_type": "code",
   "execution_count": 90,
   "id": "9c04ef0e",
   "metadata": {},
   "outputs": [],
   "source": [
    "encoder = LabelEncoder()\n",
    "df[feature_column] = encoder.fit_transform(df[feature_column])#使用标签编码将特征转化为整数形式"
   ]
  },
  {
   "cell_type": "code",
   "execution_count": 91,
   "id": "a1f66a68",
   "metadata": {},
   "outputs": [
    {
     "name": "stdout",
     "output_type": "stream",
     "text": [
      "0        0\n",
      "1        1\n",
      "2        1\n",
      "3        5\n",
      "4        3\n",
      "        ..\n",
      "35059    5\n",
      "35060    3\n",
      "35061    3\n",
      "35062    7\n",
      "35063    3\n",
      "Name: wd, Length: 35064, dtype: int64\n"
     ]
    }
   ],
   "source": [
    "print(df[feature_column]) #检查一下是否转化"
   ]
  },
  {
   "cell_type": "code",
   "execution_count": 92,
   "id": "cb0f333a",
   "metadata": {},
   "outputs": [
    {
     "name": "stdout",
     "output_type": "stream",
     "text": [
      "<class 'pandas.core.frame.DataFrame'>\n",
      "RangeIndex: 35064 entries, 0 to 35063\n",
      "Data columns (total 18 columns):\n",
      " #   Column   Non-Null Count  Dtype  \n",
      "---  ------   --------------  -----  \n",
      " 0   No       35064 non-null  int64  \n",
      " 1   year     35064 non-null  int64  \n",
      " 2   month    35064 non-null  int64  \n",
      " 3   day      35064 non-null  int64  \n",
      " 4   hour     35064 non-null  int64  \n",
      " 5   PM2.5    34290 non-null  float64\n",
      " 6   PM10     34482 non-null  float64\n",
      " 7   SO2      34436 non-null  float64\n",
      " 8   NO2      34397 non-null  float64\n",
      " 9   CO       33543 non-null  float64\n",
      " 10  O3       34460 non-null  float64\n",
      " 11  TEMP     35011 non-null  float64\n",
      " 12  PRES     35014 non-null  float64\n",
      " 13  DEWP     35011 non-null  float64\n",
      " 14  RAIN     35013 non-null  float64\n",
      " 15  wd       35064 non-null  int64  \n",
      " 16  WSPM     35021 non-null  float64\n",
      " 17  station  35064 non-null  object \n",
      "dtypes: float64(11), int64(6), object(1)\n",
      "memory usage: 4.8+ MB\n"
     ]
    }
   ],
   "source": [
    "df.info()"
   ]
  },
  {
   "cell_type": "code",
   "execution_count": 93,
   "id": "e7a83cf1",
   "metadata": {},
   "outputs": [
    {
     "name": "stdout",
     "output_type": "stream",
     "text": [
      "(35064, 18)\n"
     ]
    }
   ],
   "source": [
    "print(df.shape)"
   ]
  },
  {
   "cell_type": "code",
   "execution_count": 94,
   "id": "10079650",
   "metadata": {},
   "outputs": [
    {
     "data": {
      "text/plain": [
       "No            0\n",
       "year          0\n",
       "month         0\n",
       "day           0\n",
       "hour          0\n",
       "PM2.5       774\n",
       "PM10        582\n",
       "SO2         628\n",
       "NO2         667\n",
       "CO         1521\n",
       "O3          604\n",
       "TEMP         53\n",
       "PRES         50\n",
       "DEWP         53\n",
       "RAIN         51\n",
       "wd            0\n",
       "WSPM         43\n",
       "station       0\n",
       "dtype: int64"
      ]
     },
     "execution_count": 94,
     "metadata": {},
     "output_type": "execute_result"
    }
   ],
   "source": [
    "##checking how many null values are in each column\n",
    "df.isnull().sum()"
   ]
  },
  {
   "cell_type": "code",
   "execution_count": 95,
   "id": "468ea4e7",
   "metadata": {},
   "outputs": [],
   "source": [
    "# dropping all the rows with NaN values\n",
    "df = df.dropna()"
   ]
  },
  {
   "cell_type": "code",
   "execution_count": 96,
   "id": "0c8f4502",
   "metadata": {},
   "outputs": [
    {
     "data": {
      "text/plain": [
       "No         0\n",
       "year       0\n",
       "month      0\n",
       "day        0\n",
       "hour       0\n",
       "PM2.5      0\n",
       "PM10       0\n",
       "SO2        0\n",
       "NO2        0\n",
       "CO         0\n",
       "O3         0\n",
       "TEMP       0\n",
       "PRES       0\n",
       "DEWP       0\n",
       "RAIN       0\n",
       "wd         0\n",
       "WSPM       0\n",
       "station    0\n",
       "dtype: int64"
      ]
     },
     "execution_count": 96,
     "metadata": {},
     "output_type": "execute_result"
    }
   ],
   "source": [
    "df.isnull().sum()"
   ]
  },
  {
   "cell_type": "code",
   "execution_count": 97,
   "id": "9879b982",
   "metadata": {},
   "outputs": [
    {
     "name": "stdout",
     "output_type": "stream",
     "text": [
      "(32774, 18)\n"
     ]
    }
   ],
   "source": [
    "print(df.shape)"
   ]
  },
  {
   "cell_type": "code",
   "execution_count": 98,
   "id": "9e5f3cba",
   "metadata": {},
   "outputs": [],
   "source": [
    "train = df[:24684]\n",
    "rest = df[24684:]\n",
    "val = rest[:int(len(rest)*0.5)]\n",
    "test = rest[int(len(rest)*0.5):]"
   ]
  },
  {
   "cell_type": "code",
   "execution_count": 99,
   "id": "da5a9d0d",
   "metadata": {},
   "outputs": [],
   "source": [
    "X_train = train.drop(columns = {'PM2.5','station'})\n",
    "y_train = train['PM2.5']\n",
    "\n",
    "X_val = val.drop(columns = {'PM2.5','station'})\n",
    "y_val = val['PM2.5']\n",
    "\n",
    "X_test = test.drop(columns = {'PM2.5','station'})\n",
    "y_test = test['PM2.5']"
   ]
  },
  {
   "cell_type": "code",
   "execution_count": 100,
   "id": "1d5f0879",
   "metadata": {},
   "outputs": [
    {
     "name": "stdout",
     "output_type": "stream",
     "text": [
      "(24684, 16)\n",
      "(4045, 16)\n",
      "(4045, 16)\n"
     ]
    }
   ],
   "source": [
    "print(X_train.shape)\n",
    "print(X_val.shape)\n",
    "print(X_test.shape)"
   ]
  },
  {
   "cell_type": "code",
   "execution_count": 101,
   "id": "6ef066e7",
   "metadata": {},
   "outputs": [],
   "source": [
    "y_train_norm = np.asarray(y_train)\n",
    "y_train = np.reshape(y_train_norm,(-1,1))\n",
    "scaler = MinMaxScaler(feature_range=(0,1))\n",
    "y_train = scaler.fit_transform(y_train)\n",
    "\n",
    "\n",
    "y_val_norm = np.asarray(y_val)\n",
    "y_val = np.reshape(y_val_norm,(-1,1))\n",
    "scaler = MinMaxScaler(feature_range=(0,1))\n",
    "y_val = scaler.fit_transform(y_val)\n",
    "\n",
    "y_test_norm = np.asarray(y_test)\n",
    "y_test = np.reshape(y_test_norm,(-1,1))\n",
    "scaler = MinMaxScaler(feature_range=(0,1))\n",
    "y_test = scaler.fit_transform(y_test)"
   ]
  },
  {
   "cell_type": "code",
   "execution_count": 102,
   "id": "47fa17d5",
   "metadata": {},
   "outputs": [],
   "source": [
    "scaler = StandardScaler()\n",
    "x_train = scaler.fit_transform(X_train)\n",
    "x_val = scaler.fit_transform(X_val)\n",
    "x_test = scaler.fit_transform(X_test)"
   ]
  },
  {
   "cell_type": "code",
   "execution_count": 103,
   "id": "18a35e96",
   "metadata": {},
   "outputs": [],
   "source": [
    "x_train_sca = x_train[:].reshape(-1,1,x_train.shape[1])\n",
    "x_val_sca = x_val[:].reshape(-1,1,x_val.shape[1])\n",
    "x_test_sca = x_test[:].reshape(-1,1,x_test.shape[1])"
   ]
  },
  {
   "cell_type": "code",
   "execution_count": 104,
   "id": "61291deb",
   "metadata": {},
   "outputs": [
    {
     "data": {
      "text/plain": [
       "(24684, 1, 16)"
      ]
     },
     "execution_count": 104,
     "metadata": {},
     "output_type": "execute_result"
    }
   ],
   "source": [
    "x_train_sca.shape"
   ]
  },
  {
   "cell_type": "markdown",
   "id": "a0ca9ec4",
   "metadata": {},
   "source": [
    "RNN"
   ]
  },
  {
   "cell_type": "code",
   "execution_count": 105,
   "id": "f22cf335",
   "metadata": {},
   "outputs": [],
   "source": [
    "model_rnn = tf.keras.Sequential([\n",
    "        SimpleRNN(100, return_sequences = True, activation = 'relu'),\n",
    "        Dropout(0.1),\n",
    "        SimpleRNN(50,return_sequences=False),\n",
    "        Dropout(0.1),\n",
    "        Dense(1)])"
   ]
  },
  {
   "cell_type": "code",
   "execution_count": 106,
   "id": "96878a6a",
   "metadata": {},
   "outputs": [
    {
     "name": "stderr",
     "output_type": "stream",
     "text": [
      "/Users/qidongfang/opt/anaconda3/lib/python3.9/site-packages/keras/optimizer_v2/adam.py:105: UserWarning: The `lr` argument is deprecated, use `learning_rate` instead.\n",
      "  super(Adam, self).__init__(name, **kwargs)\n"
     ]
    }
   ],
   "source": [
    "optim = tf.optimizers.Adam(lr=0.001,clipnorm=1.)"
   ]
  },
  {
   "cell_type": "code",
   "execution_count": 107,
   "id": "e67496b7",
   "metadata": {},
   "outputs": [],
   "source": [
    "model_rnn.compile(loss='mse',\n",
    "                 optimizer = optim, metrics = ['accuracy'])"
   ]
  },
  {
   "cell_type": "code",
   "execution_count": 108,
   "id": "420b9721",
   "metadata": {},
   "outputs": [
    {
     "name": "stdout",
     "output_type": "stream",
     "text": [
      "Epoch 1/50\n",
      "193/193 [==============================] - 2s 4ms/step - loss: 0.0451 - accuracy: 0.0190 - val_loss: 0.0075 - val_accuracy: 0.0222\n",
      "Epoch 2/50\n",
      "193/193 [==============================] - 0s 2ms/step - loss: 0.0111 - accuracy: 0.0194 - val_loss: 0.0066 - val_accuracy: 0.0222\n",
      "Epoch 3/50\n",
      "193/193 [==============================] - 0s 2ms/step - loss: 0.0068 - accuracy: 0.0194 - val_loss: 0.0094 - val_accuracy: 0.0222\n",
      "Epoch 4/50\n",
      "193/193 [==============================] - 0s 2ms/step - loss: 0.0052 - accuracy: 0.0194 - val_loss: 0.0086 - val_accuracy: 0.0222\n",
      "Epoch 5/50\n",
      "193/193 [==============================] - 0s 2ms/step - loss: 0.0042 - accuracy: 0.0194 - val_loss: 0.0073 - val_accuracy: 0.0222\n",
      "Epoch 6/50\n",
      "193/193 [==============================] - 0s 2ms/step - loss: 0.0034 - accuracy: 0.0194 - val_loss: 0.0081 - val_accuracy: 0.0222\n",
      "Epoch 7/50\n",
      "193/193 [==============================] - 0s 2ms/step - loss: 0.0031 - accuracy: 0.0194 - val_loss: 0.0081 - val_accuracy: 0.0222\n",
      "Epoch 8/50\n",
      "193/193 [==============================] - 0s 2ms/step - loss: 0.0027 - accuracy: 0.0194 - val_loss: 0.0074 - val_accuracy: 0.0222\n",
      "Epoch 9/50\n",
      "193/193 [==============================] - 0s 2ms/step - loss: 0.0025 - accuracy: 0.0194 - val_loss: 0.0079 - val_accuracy: 0.0222\n",
      "Epoch 10/50\n",
      "193/193 [==============================] - 0s 2ms/step - loss: 0.0023 - accuracy: 0.0194 - val_loss: 0.0074 - val_accuracy: 0.0222\n",
      "Epoch 11/50\n",
      "193/193 [==============================] - 0s 2ms/step - loss: 0.0022 - accuracy: 0.0194 - val_loss: 0.0065 - val_accuracy: 0.0222\n",
      "Epoch 12/50\n",
      "193/193 [==============================] - 0s 2ms/step - loss: 0.0020 - accuracy: 0.0194 - val_loss: 0.0069 - val_accuracy: 0.0222\n",
      "Epoch 13/50\n",
      "193/193 [==============================] - 0s 2ms/step - loss: 0.0019 - accuracy: 0.0194 - val_loss: 0.0072 - val_accuracy: 0.0222\n",
      "Epoch 14/50\n",
      "193/193 [==============================] - 0s 2ms/step - loss: 0.0019 - accuracy: 0.0194 - val_loss: 0.0065 - val_accuracy: 0.0222\n",
      "Epoch 15/50\n",
      "193/193 [==============================] - 0s 2ms/step - loss: 0.0018 - accuracy: 0.0194 - val_loss: 0.0061 - val_accuracy: 0.0222\n",
      "Epoch 16/50\n",
      "193/193 [==============================] - 0s 2ms/step - loss: 0.0018 - accuracy: 0.0194 - val_loss: 0.0067 - val_accuracy: 0.0222\n",
      "Epoch 17/50\n",
      "193/193 [==============================] - 0s 2ms/step - loss: 0.0017 - accuracy: 0.0194 - val_loss: 0.0070 - val_accuracy: 0.0222\n",
      "Epoch 18/50\n",
      "193/193 [==============================] - 0s 2ms/step - loss: 0.0016 - accuracy: 0.0194 - val_loss: 0.0063 - val_accuracy: 0.0222\n",
      "Epoch 19/50\n",
      "193/193 [==============================] - 0s 2ms/step - loss: 0.0016 - accuracy: 0.0194 - val_loss: 0.0065 - val_accuracy: 0.0222\n",
      "Epoch 20/50\n",
      "193/193 [==============================] - 0s 2ms/step - loss: 0.0016 - accuracy: 0.0194 - val_loss: 0.0067 - val_accuracy: 0.0222\n",
      "Epoch 21/50\n",
      "193/193 [==============================] - 0s 2ms/step - loss: 0.0015 - accuracy: 0.0194 - val_loss: 0.0062 - val_accuracy: 0.0222\n",
      "Epoch 22/50\n",
      "193/193 [==============================] - 0s 2ms/step - loss: 0.0015 - accuracy: 0.0194 - val_loss: 0.0068 - val_accuracy: 0.0222\n",
      "Epoch 23/50\n",
      "193/193 [==============================] - 0s 3ms/step - loss: 0.0015 - accuracy: 0.0194 - val_loss: 0.0062 - val_accuracy: 0.0222\n",
      "Epoch 24/50\n",
      "193/193 [==============================] - 0s 2ms/step - loss: 0.0015 - accuracy: 0.0194 - val_loss: 0.0062 - val_accuracy: 0.0222\n",
      "Epoch 25/50\n",
      "193/193 [==============================] - 0s 2ms/step - loss: 0.0015 - accuracy: 0.0194 - val_loss: 0.0064 - val_accuracy: 0.0222\n",
      "Epoch 26/50\n",
      "193/193 [==============================] - 0s 2ms/step - loss: 0.0014 - accuracy: 0.0194 - val_loss: 0.0065 - val_accuracy: 0.0222\n",
      "Epoch 27/50\n",
      "193/193 [==============================] - 0s 2ms/step - loss: 0.0014 - accuracy: 0.0194 - val_loss: 0.0068 - val_accuracy: 0.0222\n",
      "Epoch 28/50\n",
      "193/193 [==============================] - 0s 2ms/step - loss: 0.0014 - accuracy: 0.0194 - val_loss: 0.0063 - val_accuracy: 0.0222\n",
      "Epoch 29/50\n",
      "193/193 [==============================] - 0s 2ms/step - loss: 0.0014 - accuracy: 0.0194 - val_loss: 0.0072 - val_accuracy: 0.0222\n",
      "Epoch 30/50\n",
      "193/193 [==============================] - 0s 2ms/step - loss: 0.0014 - accuracy: 0.0194 - val_loss: 0.0063 - val_accuracy: 0.0222\n",
      "Epoch 31/50\n",
      "193/193 [==============================] - 0s 2ms/step - loss: 0.0014 - accuracy: 0.0194 - val_loss: 0.0061 - val_accuracy: 0.0222\n",
      "Epoch 32/50\n",
      "193/193 [==============================] - 0s 2ms/step - loss: 0.0014 - accuracy: 0.0194 - val_loss: 0.0067 - val_accuracy: 0.0222\n",
      "Epoch 33/50\n",
      "193/193 [==============================] - 0s 2ms/step - loss: 0.0014 - accuracy: 0.0194 - val_loss: 0.0069 - val_accuracy: 0.0222\n",
      "Epoch 34/50\n",
      "193/193 [==============================] - 0s 2ms/step - loss: 0.0013 - accuracy: 0.0194 - val_loss: 0.0068 - val_accuracy: 0.0222\n",
      "Epoch 35/50\n",
      "193/193 [==============================] - 0s 2ms/step - loss: 0.0013 - accuracy: 0.0194 - val_loss: 0.0073 - val_accuracy: 0.0222\n",
      "Epoch 36/50\n",
      "193/193 [==============================] - 0s 2ms/step - loss: 0.0013 - accuracy: 0.0194 - val_loss: 0.0062 - val_accuracy: 0.0222\n",
      "Epoch 37/50\n",
      "193/193 [==============================] - 0s 2ms/step - loss: 0.0013 - accuracy: 0.0194 - val_loss: 0.0070 - val_accuracy: 0.0222\n",
      "Epoch 38/50\n",
      "193/193 [==============================] - 0s 2ms/step - loss: 0.0013 - accuracy: 0.0194 - val_loss: 0.0063 - val_accuracy: 0.0222\n",
      "Epoch 39/50\n",
      "193/193 [==============================] - 0s 2ms/step - loss: 0.0013 - accuracy: 0.0194 - val_loss: 0.0065 - val_accuracy: 0.0222\n",
      "Epoch 40/50\n",
      "193/193 [==============================] - 0s 2ms/step - loss: 0.0013 - accuracy: 0.0194 - val_loss: 0.0062 - val_accuracy: 0.0222\n",
      "Epoch 41/50\n",
      "193/193 [==============================] - 0s 2ms/step - loss: 0.0013 - accuracy: 0.0194 - val_loss: 0.0066 - val_accuracy: 0.0222\n",
      "Epoch 42/50\n",
      "193/193 [==============================] - 0s 2ms/step - loss: 0.0013 - accuracy: 0.0194 - val_loss: 0.0061 - val_accuracy: 0.0222\n",
      "Epoch 43/50\n",
      "193/193 [==============================] - 0s 2ms/step - loss: 0.0013 - accuracy: 0.0194 - val_loss: 0.0067 - val_accuracy: 0.0222\n",
      "Epoch 44/50\n",
      "193/193 [==============================] - 0s 2ms/step - loss: 0.0013 - accuracy: 0.0194 - val_loss: 0.0069 - val_accuracy: 0.0222\n",
      "Epoch 45/50\n",
      "193/193 [==============================] - 0s 2ms/step - loss: 0.0013 - accuracy: 0.0194 - val_loss: 0.0066 - val_accuracy: 0.0222\n",
      "Epoch 46/50\n",
      "193/193 [==============================] - 0s 2ms/step - loss: 0.0013 - accuracy: 0.0194 - val_loss: 0.0061 - val_accuracy: 0.0222\n",
      "Epoch 47/50\n",
      "193/193 [==============================] - 0s 2ms/step - loss: 0.0013 - accuracy: 0.0194 - val_loss: 0.0065 - val_accuracy: 0.0222\n",
      "Epoch 48/50\n",
      "193/193 [==============================] - 0s 2ms/step - loss: 0.0013 - accuracy: 0.0194 - val_loss: 0.0062 - val_accuracy: 0.0222\n",
      "Epoch 49/50\n",
      "193/193 [==============================] - 0s 2ms/step - loss: 0.0013 - accuracy: 0.0194 - val_loss: 0.0066 - val_accuracy: 0.0222\n",
      "Epoch 50/50\n",
      "193/193 [==============================] - 0s 2ms/step - loss: 0.0013 - accuracy: 0.0194 - val_loss: 0.0065 - val_accuracy: 0.0222\n",
      "CPU times: user 37.4 s, sys: 7.52 s, total: 44.9 s\n",
      "Wall time: 21.9 s\n"
     ]
    }
   ],
   "source": [
    "%%time\n",
    "hist = model_rnn.fit(\n",
    "         x_train_sca,y_train,\n",
    "         batch_size = 128,\n",
    "         epochs = 50,\n",
    "         validation_data = (x_val_sca, y_val)\n",
    ")"
   ]
  },
  {
   "cell_type": "code",
   "execution_count": 109,
   "id": "da7d038a",
   "metadata": {},
   "outputs": [],
   "source": [
    "prediction  = model_rnn.predict(x_val_sca)"
   ]
  },
  {
   "cell_type": "code",
   "execution_count": 110,
   "id": "16b8e21e",
   "metadata": {},
   "outputs": [
    {
     "name": "stdout",
     "output_type": "stream",
     "text": [
      "0.5298446245134307\n",
      "0.006521599393107894\n"
     ]
    }
   ],
   "source": [
    "r2 = r2_score(prediction,y_val)\n",
    "mse = mean_squared_error(prediction,y_val)\n",
    "print(r2)\n",
    "print(mse)"
   ]
  },
  {
   "cell_type": "code",
   "execution_count": 111,
   "id": "8defcb62",
   "metadata": {},
   "outputs": [],
   "source": [
    "prediction = model_rnn.predict(x_test_sca)"
   ]
  },
  {
   "cell_type": "code",
   "execution_count": 112,
   "id": "c51af872",
   "metadata": {},
   "outputs": [
    {
     "name": "stdout",
     "output_type": "stream",
     "text": [
      "0.9177153169262937\n",
      "0.0013158097581953937\n"
     ]
    }
   ],
   "source": [
    "r2 = r2_score(prediction,y_test)\n",
    "mse = mean_squared_error(prediction,y_test)\n",
    "print(r2)\n",
    "print(mse)"
   ]
  },
  {
   "cell_type": "code",
   "execution_count": 113,
   "id": "728e270e",
   "metadata": {},
   "outputs": [
    {
     "name": "stdout",
     "output_type": "stream",
     "text": [
      "dict_keys(['loss', 'accuracy', 'val_loss', 'val_accuracy'])\n"
     ]
    }
   ],
   "source": [
    "print(hist.history.keys())"
   ]
  },
  {
   "cell_type": "code",
   "execution_count": 114,
   "id": "6f77eb32",
   "metadata": {},
   "outputs": [
    {
     "data": {
      "image/png": "[encoded data removed]",
      "text/plain": [
       "<Figure size 640x480 with 1 Axes>"
      ]
     },
     "metadata": {},
     "output_type": "display_data"
    }
   ],
   "source": [
    "plt.plot(prediction)\n",
    "plt.plot(y_test,'.')\n",
    "plt.legend(['prediction','test'],loc = 'upper left')\n",
    "plt.show()"
   ]
  },
  {
   "cell_type": "code",
   "execution_count": 115,
   "id": "84c349af",
   "metadata": {},
   "outputs": [
    {
     "data": {
      "image/png": "[encoded data removed]",
      "text/plain": [
       "<Figure size 640x480 with 1 Axes>"
      ]
     },
     "metadata": {},
     "output_type": "display_data"
    }
   ],
   "source": [
    "plt.plot(hist.history['accuracy'])\n",
    "plt.plot(hist.history['val_accuracy'])\n",
    "plt.title('model accuracy')\n",
    "plt.ylabel('accuracy')\n",
    "plt.xlabel('epoch')\n",
    "plt.legend(['train','val'], loc='upper left')\n",
    "plt.show()"
   ]
  },
  {
   "cell_type": "code",
   "execution_count": 116,
   "id": "8ac56b4f",
   "metadata": {},
   "outputs": [
    {
     "data": {
      "image/png": "[encoded data removed]",
      "text/plain": [
       "<Figure size 640x480 with 1 Axes>"
      ]
     },
     "metadata": {},
     "output_type": "display_data"
    }
   ],
   "source": [
    "plt.plot(hist.history['loss'])\n",
    "#plt.plot(hist.history['val_loss'])\n",
    "plt.title('model loss')\n",
    "plt.ylabel('loss')\n",
    "plt.xlabel('epoch')\n",
    "plt.legend(['train'],loc = 'upper left')\n",
    "plt.show()"
   ]
  },
  {
   "cell_type": "code",
   "execution_count": 121,
   "id": "24ea613b",
   "metadata": {},
   "outputs": [],
   "source": [
    "#pd.DataFrame(prediction).to_csv('changpingrnn.csv',index = False)"
   ]
  },
  {
   "cell_type": "code",
   "execution_count": 122,
   "id": "0f03cbab",
   "metadata": {},
   "outputs": [],
   "source": [
    "#pd.DataFrame(hist.history['loss']).to_csv('rnnloss.csv',index = False)"
   ]
  },
  {
   "cell_type": "markdown",
   "id": "af4d671b",
   "metadata": {},
   "source": [
    "# LSTM"
   ]
  },
  {
   "cell_type": "code",
   "execution_count": 123,
   "id": "6f56bf1d",
   "metadata": {},
   "outputs": [],
   "source": [
    "model_lstm = tf.keras.Sequential([\n",
    "    LSTM(100,return_sequences=True,activation='relu'),\n",
    "    Dropout(0.1),\n",
    "    LSTM(50,return_sequences = False),\n",
    "    Dropout(0.1),\n",
    "    Dense(1)\n",
    "])"
   ]
  },
  {
   "cell_type": "code",
   "execution_count": 124,
   "id": "00025e2f",
   "metadata": {},
   "outputs": [
    {
     "name": "stderr",
     "output_type": "stream",
     "text": [
      "/Users/qidongfang/opt/anaconda3/lib/python3.9/site-packages/keras/optimizer_v2/adam.py:105: UserWarning: The `lr` argument is deprecated, use `learning_rate` instead.\n",
      "  super(Adam, self).__init__(name, **kwargs)\n"
     ]
    }
   ],
   "source": [
    "optim = tf.optimizers.Adam(lr=0.001,clipnorm=1.)"
   ]
  },
  {
   "cell_type": "code",
   "execution_count": 125,
   "id": "3bc30fda",
   "metadata": {},
   "outputs": [],
   "source": [
    "model_lstm.compile(loss='mse',\n",
    "                   optimizer = optim, metrics=['accuracy']\n",
    ")"
   ]
  },
  {
   "cell_type": "code",
   "execution_count": 126,
   "id": "2dde5c46",
   "metadata": {},
   "outputs": [
    {
     "name": "stdout",
     "output_type": "stream",
     "text": [
      "Epoch 1/50\n",
      "193/193 [==============================] - 4s 6ms/step - loss: 0.0040 - accuracy: 0.0194 - val_loss: 0.0066 - val_accuracy: 0.0222\n",
      "Epoch 2/50\n",
      "193/193 [==============================] - 1s 4ms/step - loss: 0.0017 - accuracy: 0.0194 - val_loss: 0.0068 - val_accuracy: 0.0222\n",
      "Epoch 3/50\n",
      "193/193 [==============================] - 1s 4ms/step - loss: 0.0015 - accuracy: 0.0194 - val_loss: 0.0069 - val_accuracy: 0.0222\n",
      "Epoch 4/50\n",
      "193/193 [==============================] - 1s 4ms/step - loss: 0.0015 - accuracy: 0.0194 - val_loss: 0.0060 - val_accuracy: 0.0222\n",
      "Epoch 5/50\n",
      "193/193 [==============================] - 1s 4ms/step - loss: 0.0014 - accuracy: 0.0194 - val_loss: 0.0062 - val_accuracy: 0.0222\n",
      "Epoch 6/50\n",
      "193/193 [==============================] - 1s 4ms/step - loss: 0.0013 - accuracy: 0.0194 - val_loss: 0.0062 - val_accuracy: 0.0222\n",
      "Epoch 7/50\n",
      "193/193 [==============================] - 1s 4ms/step - loss: 0.0013 - accuracy: 0.0194 - val_loss: 0.0063 - val_accuracy: 0.0222\n",
      "Epoch 8/50\n",
      "193/193 [==============================] - 1s 4ms/step - loss: 0.0013 - accuracy: 0.0194 - val_loss: 0.0058 - val_accuracy: 0.0222\n",
      "Epoch 9/50\n",
      "193/193 [==============================] - 1s 4ms/step - loss: 0.0012 - accuracy: 0.0194 - val_loss: 0.0060 - val_accuracy: 0.0222\n",
      "Epoch 10/50\n",
      "193/193 [==============================] - 1s 4ms/step - loss: 0.0012 - accuracy: 0.0194 - val_loss: 0.0054 - val_accuracy: 0.0222\n",
      "Epoch 11/50\n",
      "193/193 [==============================] - 1s 4ms/step - loss: 0.0012 - accuracy: 0.0194 - val_loss: 0.0055 - val_accuracy: 0.0222\n",
      "Epoch 12/50\n",
      "193/193 [==============================] - 1s 4ms/step - loss: 0.0011 - accuracy: 0.0194 - val_loss: 0.0057 - val_accuracy: 0.0222\n",
      "Epoch 13/50\n",
      "193/193 [==============================] - 1s 4ms/step - loss: 0.0011 - accuracy: 0.0194 - val_loss: 0.0057 - val_accuracy: 0.0222\n",
      "Epoch 14/50\n",
      "193/193 [==============================] - 1s 4ms/step - loss: 0.0011 - accuracy: 0.0194 - val_loss: 0.0061 - val_accuracy: 0.0222\n",
      "Epoch 15/50\n",
      "193/193 [==============================] - 1s 4ms/step - loss: 0.0011 - accuracy: 0.0194 - val_loss: 0.0061 - val_accuracy: 0.0222\n",
      "Epoch 16/50\n",
      "193/193 [==============================] - 1s 4ms/step - loss: 0.0011 - accuracy: 0.0194 - val_loss: 0.0060 - val_accuracy: 0.0222\n",
      "Epoch 17/50\n",
      "193/193 [==============================] - 1s 4ms/step - loss: 0.0011 - accuracy: 0.0194 - val_loss: 0.0061 - val_accuracy: 0.0222\n",
      "Epoch 18/50\n",
      "193/193 [==============================] - 1s 4ms/step - loss: 0.0011 - accuracy: 0.0194 - val_loss: 0.0064 - val_accuracy: 0.0222\n",
      "Epoch 19/50\n",
      "193/193 [==============================] - 1s 4ms/step - loss: 0.0011 - accuracy: 0.0194 - val_loss: 0.0062 - val_accuracy: 0.0222\n",
      "Epoch 20/50\n",
      "193/193 [==============================] - 1s 4ms/step - loss: 0.0010 - accuracy: 0.0194 - val_loss: 0.0057 - val_accuracy: 0.0222\n",
      "Epoch 21/50\n",
      "193/193 [==============================] - 1s 4ms/step - loss: 0.0010 - accuracy: 0.0194 - val_loss: 0.0065 - val_accuracy: 0.0222\n",
      "Epoch 22/50\n",
      "193/193 [==============================] - 1s 4ms/step - loss: 0.0010 - accuracy: 0.0194 - val_loss: 0.0058 - val_accuracy: 0.0222\n",
      "Epoch 23/50\n",
      "193/193 [==============================] - 1s 4ms/step - loss: 0.0010 - accuracy: 0.0194 - val_loss: 0.0061 - val_accuracy: 0.0222\n",
      "Epoch 24/50\n",
      "193/193 [==============================] - 1s 4ms/step - loss: 9.8334e-04 - accuracy: 0.0194 - val_loss: 0.0059 - val_accuracy: 0.0222\n",
      "Epoch 25/50\n",
      "193/193 [==============================] - 1s 4ms/step - loss: 9.9106e-04 - accuracy: 0.0194 - val_loss: 0.0056 - val_accuracy: 0.0222\n",
      "Epoch 26/50\n",
      "193/193 [==============================] - 1s 4ms/step - loss: 9.6667e-04 - accuracy: 0.0194 - val_loss: 0.0068 - val_accuracy: 0.0222\n",
      "Epoch 27/50\n",
      "193/193 [==============================] - 1s 4ms/step - loss: 9.5776e-04 - accuracy: 0.0194 - val_loss: 0.0064 - val_accuracy: 0.0222\n",
      "Epoch 28/50\n",
      "193/193 [==============================] - 1s 4ms/step - loss: 9.6805e-04 - accuracy: 0.0194 - val_loss: 0.0057 - val_accuracy: 0.0222\n",
      "Epoch 29/50\n",
      "193/193 [==============================] - 1s 4ms/step - loss: 9.5646e-04 - accuracy: 0.0194 - val_loss: 0.0058 - val_accuracy: 0.0222\n",
      "Epoch 30/50\n",
      "193/193 [==============================] - 1s 4ms/step - loss: 9.6199e-04 - accuracy: 0.0194 - val_loss: 0.0060 - val_accuracy: 0.0222\n",
      "Epoch 31/50\n",
      "193/193 [==============================] - 1s 4ms/step - loss: 9.4197e-04 - accuracy: 0.0194 - val_loss: 0.0059 - val_accuracy: 0.0222\n",
      "Epoch 32/50\n",
      "193/193 [==============================] - 1s 4ms/step - loss: 9.4257e-04 - accuracy: 0.0194 - val_loss: 0.0056 - val_accuracy: 0.0222\n",
      "Epoch 33/50\n",
      "193/193 [==============================] - 1s 4ms/step - loss: 9.2343e-04 - accuracy: 0.0194 - val_loss: 0.0060 - val_accuracy: 0.0222\n",
      "Epoch 34/50\n",
      "193/193 [==============================] - 1s 4ms/step - loss: 9.0154e-04 - accuracy: 0.0194 - val_loss: 0.0059 - val_accuracy: 0.0222\n",
      "Epoch 35/50\n",
      "193/193 [==============================] - 1s 4ms/step - loss: 9.1678e-04 - accuracy: 0.0194 - val_loss: 0.0066 - val_accuracy: 0.0222\n",
      "Epoch 36/50\n",
      "193/193 [==============================] - 1s 4ms/step - loss: 9.0521e-04 - accuracy: 0.0194 - val_loss: 0.0058 - val_accuracy: 0.0222\n",
      "Epoch 37/50\n",
      "193/193 [==============================] - 1s 4ms/step - loss: 8.9148e-04 - accuracy: 0.0194 - val_loss: 0.0058 - val_accuracy: 0.0222\n",
      "Epoch 38/50\n",
      "193/193 [==============================] - 1s 4ms/step - loss: 8.8306e-04 - accuracy: 0.0194 - val_loss: 0.0060 - val_accuracy: 0.0222\n",
      "Epoch 39/50\n",
      "193/193 [==============================] - 1s 4ms/step - loss: 8.7463e-04 - accuracy: 0.0194 - val_loss: 0.0056 - val_accuracy: 0.0222\n",
      "Epoch 40/50\n",
      "193/193 [==============================] - 1s 4ms/step - loss: 8.7947e-04 - accuracy: 0.0194 - val_loss: 0.0068 - val_accuracy: 0.0222\n",
      "Epoch 41/50\n",
      "193/193 [==============================] - 1s 4ms/step - loss: 8.7891e-04 - accuracy: 0.0194 - val_loss: 0.0059 - val_accuracy: 0.0222\n",
      "Epoch 42/50\n",
      "193/193 [==============================] - 1s 4ms/step - loss: 8.4912e-04 - accuracy: 0.0194 - val_loss: 0.0064 - val_accuracy: 0.0222\n",
      "Epoch 43/50\n",
      "193/193 [==============================] - 1s 4ms/step - loss: 8.6001e-04 - accuracy: 0.0194 - val_loss: 0.0064 - val_accuracy: 0.0222\n",
      "Epoch 44/50\n",
      "193/193 [==============================] - 1s 4ms/step - loss: 8.5830e-04 - accuracy: 0.0194 - val_loss: 0.0054 - val_accuracy: 0.0222\n",
      "Epoch 45/50\n",
      "193/193 [==============================] - 1s 4ms/step - loss: 8.5023e-04 - accuracy: 0.0194 - val_loss: 0.0063 - val_accuracy: 0.0222\n",
      "Epoch 46/50\n",
      "193/193 [==============================] - 1s 4ms/step - loss: 8.4376e-04 - accuracy: 0.0194 - val_loss: 0.0055 - val_accuracy: 0.0222\n",
      "Epoch 47/50\n",
      "193/193 [==============================] - 1s 4ms/step - loss: 8.2457e-04 - accuracy: 0.0194 - val_loss: 0.0058 - val_accuracy: 0.0222\n",
      "Epoch 48/50\n",
      "193/193 [==============================] - 1s 4ms/step - loss: 8.3205e-04 - accuracy: 0.0194 - val_loss: 0.0059 - val_accuracy: 0.0222\n",
      "Epoch 49/50\n",
      "193/193 [==============================] - 1s 4ms/step - loss: 8.1914e-04 - accuracy: 0.0194 - val_loss: 0.0060 - val_accuracy: 0.0222\n",
      "Epoch 50/50\n",
      "193/193 [==============================] - 1s 4ms/step - loss: 8.2687e-04 - accuracy: 0.0194 - val_loss: 0.0056 - val_accuracy: 0.0222\n",
      "CPU times: user 1min 18s, sys: 28.9 s, total: 1min 47s\n",
      "Wall time: 41.8 s\n"
     ]
    }
   ],
   "source": [
    "%%time\n",
    "hist_lstm = model_lstm.fit(\n",
    "    x_train_sca,y_train,\n",
    "    batch_size = 128,\n",
    "    epochs = 50,\n",
    "    validation_data = (x_val_sca,y_val)\n",
    ")"
   ]
  },
  {
   "cell_type": "code",
   "execution_count": 127,
   "id": "e8fbbb98",
   "metadata": {},
   "outputs": [],
   "source": [
    "prediction_lstm = model_lstm.predict(x_val_sca)"
   ]
  },
  {
   "cell_type": "code",
   "execution_count": 128,
   "id": "ee9d7906",
   "metadata": {},
   "outputs": [
    {
     "name": "stdout",
     "output_type": "stream",
     "text": [
      "0.56342187900533\n",
      "0.005566899675960496\n"
     ]
    }
   ],
   "source": [
    "r2 = r2_score(prediction_lstm,y_val)\n",
    "mse = mean_squared_error(prediction_lstm,y_val)\n",
    "print(r2)\n",
    "print(mse)"
   ]
  },
  {
   "cell_type": "code",
   "execution_count": 129,
   "id": "366fb825",
   "metadata": {},
   "outputs": [],
   "source": [
    "prediction_lstm = model_lstm.predict(x_test_sca)"
   ]
  },
  {
   "cell_type": "code",
   "execution_count": 130,
   "id": "6462a921",
   "metadata": {},
   "outputs": [
    {
     "name": "stdout",
     "output_type": "stream",
     "text": [
      "0.8970911204567946\n",
      "0.0018399318011301476\n"
     ]
    }
   ],
   "source": [
    "r2 = r2_score(prediction_lstm,y_test)\n",
    "mse = mean_squared_error(prediction_lstm,y_test)\n",
    "print(r2)\n",
    "print(mse)"
   ]
  },
  {
   "cell_type": "code",
   "execution_count": 131,
   "id": "14e99d4e",
   "metadata": {},
   "outputs": [
    {
     "name": "stdout",
     "output_type": "stream",
     "text": [
      "dict_keys(['loss', 'accuracy', 'val_loss', 'val_accuracy'])\n"
     ]
    }
   ],
   "source": [
    "print(hist_lstm.history.keys())"
   ]
  },
  {
   "cell_type": "code",
   "execution_count": 132,
   "id": "279f2aec",
   "metadata": {},
   "outputs": [
    {
     "data": {
      "image/png": "[encoded data removed]",
      "text/plain": [
       "<Figure size 640x480 with 1 Axes>"
      ]
     },
     "metadata": {},
     "output_type": "display_data"
    }
   ],
   "source": [
    "# summarize history for accuracy\n",
    "plt.plot(hist.history['accuracy'])\n",
    "plt.plot(hist.history['val_accuracy'])\n",
    "plt.title('model accuracy')\n",
    "plt.ylabel('accuracy')\n",
    "plt.xlabel('epoch')\n",
    "plt.legend(['train','val'], loc='upper left')\n",
    "plt.show()"
   ]
  },
  {
   "cell_type": "code",
   "execution_count": 133,
   "id": "8ac71c43",
   "metadata": {},
   "outputs": [
    {
     "data": {
      "image/png": "[encoded data removed]",
      "text/plain": [
       "<Figure size 640x480 with 1 Axes>"
      ]
     },
     "metadata": {},
     "output_type": "display_data"
    }
   ],
   "source": [
    "plt.plot(hist.history['loss'])\n",
    "#plt.plot(hist.history['val_loss'])\n",
    "plt.title('model loss')\n",
    "plt.ylabel('loss')\n",
    "plt.xlabel('epoch')\n",
    "plt.legend(['train'],loc = 'upper left')\n",
    "plt.show()"
   ]
  },
  {
   "cell_type": "code",
   "execution_count": 135,
   "id": "149d3159",
   "metadata": {},
   "outputs": [],
   "source": [
    "pd.DataFrame(prediction_lstm).to_csv('changpinglstm.csv',index = False)"
   ]
  },
  {
   "cell_type": "code",
   "execution_count": 136,
   "id": "44003c9b",
   "metadata": {},
   "outputs": [],
   "source": [
    "pd.DataFrame(hist_lstm.history['loss']).to_csv('lstmloss.csv',index = False)"
   ]
  },
  {
   "cell_type": "markdown",
   "id": "e67fcbf5",
   "metadata": {},
   "source": [
    "# GRU"
   ]
  },
  {
   "cell_type": "code",
   "execution_count": 138,
   "id": "a2c0502b",
   "metadata": {},
   "outputs": [],
   "source": [
    "model_gru = tf.keras.Sequential([\n",
    "    GRU(100,return_sequences=True,activation='relu'),\n",
    "    Dropout(0.1),\n",
    "    GRU(50,return_sequences=False),\n",
    "    Dropout(0.1),\n",
    "    Dense(1)\n",
    "])"
   ]
  },
  {
   "cell_type": "code",
   "execution_count": 139,
   "id": "2a03b101",
   "metadata": {},
   "outputs": [
    {
     "name": "stderr",
     "output_type": "stream",
     "text": [
      "/Users/qidongfang/opt/anaconda3/lib/python3.9/site-packages/keras/optimizer_v2/adam.py:105: UserWarning: The `lr` argument is deprecated, use `learning_rate` instead.\n",
      "  super(Adam, self).__init__(name, **kwargs)\n"
     ]
    }
   ],
   "source": [
    "optim = tf.optimizers.Adam(lr=0.001,clipnorm=1.)"
   ]
  },
  {
   "cell_type": "code",
   "execution_count": 140,
   "id": "c09d46f2",
   "metadata": {},
   "outputs": [],
   "source": [
    "model_gru.compile(loss = 'mse',\n",
    "                 optimizer = optim, metrics = ['accuracy'])"
   ]
  },
  {
   "cell_type": "code",
   "execution_count": 141,
   "id": "974722f2",
   "metadata": {},
   "outputs": [
    {
     "name": "stdout",
     "output_type": "stream",
     "text": [
      "Epoch 1/50\n",
      "193/193 [==============================] - 3s 6ms/step - loss: 0.0042 - accuracy: 0.0194 - val_loss: 0.0086 - val_accuracy: 0.0222\n",
      "Epoch 2/50\n",
      "193/193 [==============================] - 1s 5ms/step - loss: 0.0021 - accuracy: 0.0194 - val_loss: 0.0070 - val_accuracy: 0.0222\n",
      "Epoch 3/50\n",
      "193/193 [==============================] - 1s 5ms/step - loss: 0.0018 - accuracy: 0.0194 - val_loss: 0.0068 - val_accuracy: 0.0222\n",
      "Epoch 4/50\n",
      "193/193 [==============================] - 1s 4ms/step - loss: 0.0016 - accuracy: 0.0194 - val_loss: 0.0067 - val_accuracy: 0.0222\n",
      "Epoch 5/50\n",
      "193/193 [==============================] - 1s 3ms/step - loss: 0.0015 - accuracy: 0.0194 - val_loss: 0.0064 - val_accuracy: 0.0222\n",
      "Epoch 6/50\n",
      "193/193 [==============================] - 1s 3ms/step - loss: 0.0014 - accuracy: 0.0194 - val_loss: 0.0058 - val_accuracy: 0.0222\n",
      "Epoch 7/50\n",
      "193/193 [==============================] - 1s 4ms/step - loss: 0.0014 - accuracy: 0.0194 - val_loss: 0.0061 - val_accuracy: 0.0222\n",
      "Epoch 8/50\n",
      "193/193 [==============================] - 1s 4ms/step - loss: 0.0014 - accuracy: 0.0194 - val_loss: 0.0059 - val_accuracy: 0.0222\n",
      "Epoch 9/50\n",
      "193/193 [==============================] - 1s 3ms/step - loss: 0.0013 - accuracy: 0.0194 - val_loss: 0.0062 - val_accuracy: 0.0222\n",
      "Epoch 10/50\n",
      "193/193 [==============================] - 1s 3ms/step - loss: 0.0013 - accuracy: 0.0194 - val_loss: 0.0058 - val_accuracy: 0.0222\n",
      "Epoch 11/50\n",
      "193/193 [==============================] - 1s 3ms/step - loss: 0.0013 - accuracy: 0.0194 - val_loss: 0.0057 - val_accuracy: 0.0222\n",
      "Epoch 12/50\n",
      "193/193 [==============================] - 1s 3ms/step - loss: 0.0013 - accuracy: 0.0194 - val_loss: 0.0060 - val_accuracy: 0.0222\n",
      "Epoch 13/50\n",
      "193/193 [==============================] - 1s 3ms/step - loss: 0.0012 - accuracy: 0.0194 - val_loss: 0.0059 - val_accuracy: 0.0222\n",
      "Epoch 14/50\n",
      "193/193 [==============================] - 1s 4ms/step - loss: 0.0012 - accuracy: 0.0194 - val_loss: 0.0059 - val_accuracy: 0.0222\n",
      "Epoch 15/50\n",
      "193/193 [==============================] - 1s 4ms/step - loss: 0.0012 - accuracy: 0.0194 - val_loss: 0.0058 - val_accuracy: 0.0222\n",
      "Epoch 16/50\n",
      "193/193 [==============================] - 1s 4ms/step - loss: 0.0012 - accuracy: 0.0194 - val_loss: 0.0061 - val_accuracy: 0.0222\n",
      "Epoch 17/50\n",
      "193/193 [==============================] - 1s 3ms/step - loss: 0.0011 - accuracy: 0.0194 - val_loss: 0.0055 - val_accuracy: 0.0222\n",
      "Epoch 18/50\n",
      "193/193 [==============================] - 1s 3ms/step - loss: 0.0011 - accuracy: 0.0194 - val_loss: 0.0054 - val_accuracy: 0.0222\n",
      "Epoch 19/50\n",
      "193/193 [==============================] - 1s 3ms/step - loss: 0.0011 - accuracy: 0.0194 - val_loss: 0.0064 - val_accuracy: 0.0222\n",
      "Epoch 20/50\n",
      "193/193 [==============================] - 1s 3ms/step - loss: 0.0011 - accuracy: 0.0194 - val_loss: 0.0062 - val_accuracy: 0.0222\n",
      "Epoch 21/50\n",
      "193/193 [==============================] - 1s 3ms/step - loss: 0.0011 - accuracy: 0.0194 - val_loss: 0.0057 - val_accuracy: 0.0222\n",
      "Epoch 22/50\n",
      "193/193 [==============================] - 1s 3ms/step - loss: 0.0011 - accuracy: 0.0194 - val_loss: 0.0055 - val_accuracy: 0.0222\n",
      "Epoch 23/50\n",
      "193/193 [==============================] - 1s 4ms/step - loss: 0.0011 - accuracy: 0.0194 - val_loss: 0.0054 - val_accuracy: 0.0222\n",
      "Epoch 24/50\n",
      "193/193 [==============================] - 1s 4ms/step - loss: 0.0010 - accuracy: 0.0194 - val_loss: 0.0058 - val_accuracy: 0.0222\n",
      "Epoch 25/50\n",
      "193/193 [==============================] - 1s 4ms/step - loss: 0.0010 - accuracy: 0.0194 - val_loss: 0.0055 - val_accuracy: 0.0222\n",
      "Epoch 26/50\n",
      "193/193 [==============================] - 1s 5ms/step - loss: 0.0010 - accuracy: 0.0194 - val_loss: 0.0055 - val_accuracy: 0.0222\n",
      "Epoch 27/50\n",
      "193/193 [==============================] - 1s 4ms/step - loss: 0.0010 - accuracy: 0.0194 - val_loss: 0.0059 - val_accuracy: 0.0222\n",
      "Epoch 28/50\n",
      "193/193 [==============================] - 1s 3ms/step - loss: 0.0010 - accuracy: 0.0194 - val_loss: 0.0066 - val_accuracy: 0.0222\n",
      "Epoch 29/50\n",
      "193/193 [==============================] - 1s 3ms/step - loss: 9.9471e-04 - accuracy: 0.0194 - val_loss: 0.0056 - val_accuracy: 0.0222\n",
      "Epoch 30/50\n",
      "193/193 [==============================] - 1s 3ms/step - loss: 9.9960e-04 - accuracy: 0.0194 - val_loss: 0.0063 - val_accuracy: 0.0222\n",
      "Epoch 31/50\n",
      "193/193 [==============================] - 1s 3ms/step - loss: 0.0010 - accuracy: 0.0194 - val_loss: 0.0060 - val_accuracy: 0.0222\n",
      "Epoch 32/50\n",
      "193/193 [==============================] - 1s 4ms/step - loss: 9.8294e-04 - accuracy: 0.0194 - val_loss: 0.0063 - val_accuracy: 0.0222\n",
      "Epoch 33/50\n",
      "193/193 [==============================] - 1s 4ms/step - loss: 9.7913e-04 - accuracy: 0.0194 - val_loss: 0.0056 - val_accuracy: 0.0222\n",
      "Epoch 34/50\n",
      "193/193 [==============================] - 1s 4ms/step - loss: 9.6311e-04 - accuracy: 0.0194 - val_loss: 0.0054 - val_accuracy: 0.0222\n",
      "Epoch 35/50\n",
      "193/193 [==============================] - 1s 4ms/step - loss: 9.6984e-04 - accuracy: 0.0194 - val_loss: 0.0057 - val_accuracy: 0.0222\n",
      "Epoch 36/50\n",
      "193/193 [==============================] - 1s 4ms/step - loss: 9.6000e-04 - accuracy: 0.0194 - val_loss: 0.0057 - val_accuracy: 0.0222\n",
      "Epoch 37/50\n",
      "193/193 [==============================] - 1s 4ms/step - loss: 9.4154e-04 - accuracy: 0.0194 - val_loss: 0.0060 - val_accuracy: 0.0222\n",
      "Epoch 38/50\n",
      "193/193 [==============================] - 1s 3ms/step - loss: 9.1977e-04 - accuracy: 0.0194 - val_loss: 0.0066 - val_accuracy: 0.0222\n",
      "Epoch 39/50\n",
      "193/193 [==============================] - 1s 4ms/step - loss: 9.3863e-04 - accuracy: 0.0194 - val_loss: 0.0064 - val_accuracy: 0.0222\n",
      "Epoch 40/50\n",
      "193/193 [==============================] - 1s 4ms/step - loss: 9.3438e-04 - accuracy: 0.0194 - val_loss: 0.0062 - val_accuracy: 0.0222\n",
      "Epoch 41/50\n",
      "193/193 [==============================] - 1s 4ms/step - loss: 9.1588e-04 - accuracy: 0.0194 - val_loss: 0.0063 - val_accuracy: 0.0222\n",
      "Epoch 42/50\n",
      "193/193 [==============================] - 1s 3ms/step - loss: 9.1749e-04 - accuracy: 0.0194 - val_loss: 0.0062 - val_accuracy: 0.0222\n",
      "Epoch 43/50\n",
      "193/193 [==============================] - 1s 4ms/step - loss: 9.0011e-04 - accuracy: 0.0194 - val_loss: 0.0063 - val_accuracy: 0.0222\n",
      "Epoch 44/50\n",
      "193/193 [==============================] - 1s 4ms/step - loss: 8.9468e-04 - accuracy: 0.0194 - val_loss: 0.0064 - val_accuracy: 0.0222\n",
      "Epoch 45/50\n",
      "193/193 [==============================] - 1s 4ms/step - loss: 8.9635e-04 - accuracy: 0.0194 - val_loss: 0.0054 - val_accuracy: 0.0222\n",
      "Epoch 46/50\n",
      "193/193 [==============================] - 1s 4ms/step - loss: 8.8425e-04 - accuracy: 0.0194 - val_loss: 0.0058 - val_accuracy: 0.0222\n",
      "Epoch 47/50\n",
      "193/193 [==============================] - 1s 4ms/step - loss: 8.9570e-04 - accuracy: 0.0194 - val_loss: 0.0063 - val_accuracy: 0.0222\n",
      "Epoch 48/50\n",
      "193/193 [==============================] - 1s 4ms/step - loss: 8.8909e-04 - accuracy: 0.0194 - val_loss: 0.0060 - val_accuracy: 0.0222\n",
      "Epoch 49/50\n",
      "193/193 [==============================] - 1s 4ms/step - loss: 8.8571e-04 - accuracy: 0.0194 - val_loss: 0.0061 - val_accuracy: 0.0222\n",
      "Epoch 50/50\n",
      "193/193 [==============================] - 1s 4ms/step - loss: 8.7708e-04 - accuracy: 0.0194 - val_loss: 0.0062 - val_accuracy: 0.0222\n",
      "CPU times: user 1min 14s, sys: 20.9 s, total: 1min 34s\n",
      "Wall time: 38.2 s\n"
     ]
    }
   ],
   "source": [
    "%%time\n",
    "hist_gru = model_gru.fit(\n",
    "    x_train_sca,y_train,\n",
    "    batch_size = 128,\n",
    "    epochs = 50,\n",
    "    validation_data = (x_val_sca,y_val)\n",
    ")"
   ]
  },
  {
   "cell_type": "code",
   "execution_count": 143,
   "id": "4a767520",
   "metadata": {},
   "outputs": [],
   "source": [
    "prediction_gru = model_gru.predict(x_val_sca)"
   ]
  },
  {
   "cell_type": "code",
   "execution_count": 144,
   "id": "d505c249",
   "metadata": {},
   "outputs": [
    {
     "name": "stdout",
     "output_type": "stream",
     "text": [
      "0.48550431547845496\n",
      "0.006214316110786209\n"
     ]
    }
   ],
   "source": [
    "r2 = r2_score(prediction_gru,y_val)\n",
    "mse = mean_squared_error(prediction_gru,y_val)\n",
    "print(r2)\n",
    "print(mse)"
   ]
  },
  {
   "cell_type": "code",
   "execution_count": 145,
   "id": "79d005c9",
   "metadata": {},
   "outputs": [],
   "source": [
    "prediction_gru = model_gru.predict(x_test_sca)"
   ]
  },
  {
   "cell_type": "code",
   "execution_count": 146,
   "id": "6bcbd6cc",
   "metadata": {},
   "outputs": [
    {
     "name": "stdout",
     "output_type": "stream",
     "text": [
      "0.9080396451966546\n",
      "0.0015967372776479608\n"
     ]
    }
   ],
   "source": [
    "r2 = r2_score(prediction_gru,y_test)\n",
    "mse = mean_squared_error(prediction_gru,y_test)\n",
    "print(r2)\n",
    "print(mse)"
   ]
  },
  {
   "cell_type": "code",
   "execution_count": 147,
   "id": "52dd16ce",
   "metadata": {},
   "outputs": [
    {
     "name": "stdout",
     "output_type": "stream",
     "text": [
      "dict_keys(['loss', 'accuracy', 'val_loss', 'val_accuracy'])\n"
     ]
    }
   ],
   "source": [
    "print(hist_gru.history.keys())"
   ]
  },
  {
   "cell_type": "code",
   "execution_count": 148,
   "id": "beb7e0db",
   "metadata": {},
   "outputs": [
    {
     "data": {
      "image/png": "[encoded data removed]",
      "text/plain": [
       "<Figure size 640x480 with 1 Axes>"
      ]
     },
     "metadata": {},
     "output_type": "display_data"
    }
   ],
   "source": [
    "# summarize history for accuracy\n",
    "plt.plot(hist.history['accuracy'])\n",
    "plt.plot(hist.history['val_accuracy'])\n",
    "plt.title('model accuracy')\n",
    "plt.ylabel('accuracy')\n",
    "plt.xlabel('epoch')\n",
    "plt.legend(['train','val'], loc='upper left')\n",
    "plt.show()"
   ]
  },
  {
   "cell_type": "code",
   "execution_count": 149,
   "id": "fa72beb0",
   "metadata": {},
   "outputs": [
    {
     "data": {
      "image/png": "[encoded data removed]",
      "text/plain": [
       "<Figure size 640x480 with 1 Axes>"
      ]
     },
     "metadata": {},
     "output_type": "display_data"
    }
   ],
   "source": [
    "plt.plot(hist.history['loss'])\n",
    "#plt.plot(hist.history['val_loss'])\n",
    "plt.title('model loss')\n",
    "plt.ylabel('loss')\n",
    "plt.xlabel('epoch')\n",
    "plt.legend(['train'],loc = 'upper left')\n",
    "plt.show()"
   ]
  },
  {
   "cell_type": "code",
   "execution_count": 150,
   "id": "b17d673e",
   "metadata": {},
   "outputs": [],
   "source": [
    "pd.DataFrame(prediction_gru).to_csv('changpinggru.csv',index = False)"
   ]
  },
  {
   "cell_type": "code",
   "execution_count": 152,
   "id": "4bb82c25",
   "metadata": {},
   "outputs": [],
   "source": [
    "pd.DataFrame(hist_gru.history['loss']).to_csv('gruloss.csv',index = False)"
   ]
  },
  {
   "cell_type": "code",
   "execution_count": 153,
   "id": "fa8d4819",
   "metadata": {},
   "outputs": [
    {
     "name": "stdout",
     "output_type": "stream",
     "text": [
      "Model: \"sequential_4\"\n",
      "_________________________________________________________________\n",
      " Layer (type)                Output Shape              Param #   \n",
      "=================================================================\n",
      " simple_rnn_10 (SimpleRNN)   (None, 1, 100)            11700     \n",
      "                                                                 \n",
      " dropout_9 (Dropout)         (None, 1, 100)            0         \n",
      "                                                                 \n",
      " simple_rnn_11 (SimpleRNN)   (None, 50)                7550      \n",
      "                                                                 \n",
      " dropout_10 (Dropout)        (None, 50)                0         \n",
      "                                                                 \n",
      " dense_4 (Dense)             (None, 1)                 51        \n",
      "                                                                 \n",
      "=================================================================\n",
      "Total params: 19,301\n",
      "Trainable params: 19,301\n",
      "Non-trainable params: 0\n",
      "_________________________________________________________________\n"
     ]
    }
   ],
   "source": [
    "model_rnn.summary()"
   ]
  },
  {
   "cell_type": "code",
   "execution_count": 154,
   "id": "aba90fff",
   "metadata": {},
   "outputs": [
    {
     "name": "stdout",
     "output_type": "stream",
     "text": [
      "Model: \"sequential_5\"\n",
      "_________________________________________________________________\n",
      " Layer (type)                Output Shape              Param #   \n",
      "=================================================================\n",
      " lstm (LSTM)                 (None, 1, 100)            46800     \n",
      "                                                                 \n",
      " dropout_11 (Dropout)        (None, 1, 100)            0         \n",
      "                                                                 \n",
      " lstm_1 (LSTM)               (None, 50)                30200     \n",
      "                                                                 \n",
      " dropout_12 (Dropout)        (None, 50)                0         \n",
      "                                                                 \n",
      " dense_5 (Dense)             (None, 1)                 51        \n",
      "                                                                 \n",
      "=================================================================\n",
      "Total params: 77,051\n",
      "Trainable params: 77,051\n",
      "Non-trainable params: 0\n",
      "_________________________________________________________________\n"
     ]
    }
   ],
   "source": [
    "model_lstm.summary()"
   ]
  },
  {
   "cell_type": "code",
   "execution_count": 155,
   "id": "7d21ed48",
   "metadata": {},
   "outputs": [
    {
     "name": "stdout",
     "output_type": "stream",
     "text": [
      "Model: \"sequential_6\"\n",
      "_________________________________________________________________\n",
      " Layer (type)                Output Shape              Param #   \n",
      "=================================================================\n",
      " gru_1 (GRU)                 (None, 1, 100)            35400     \n",
      "                                                                 \n",
      " dropout_14 (Dropout)        (None, 1, 100)            0         \n",
      "                                                                 \n",
      " gru_2 (GRU)                 (None, 50)                22800     \n",
      "                                                                 \n",
      " dropout_15 (Dropout)        (None, 50)                0         \n",
      "                                                                 \n",
      " dense_6 (Dense)             (None, 1)                 51        \n",
      "                                                                 \n",
      "=================================================================\n",
      "Total params: 58,251\n",
      "Trainable params: 58,251\n",
      "Non-trainable params: 0\n",
      "_________________________________________________________________\n"
     ]
    }
   ],
   "source": [
    "model_gru.summary()"
   ]
  },
  {
   "cell_type": "code",
   "execution_count": null,
   "id": "7707be71",
   "metadata": {},
   "outputs": [],
   "source": []
  }
 ],
 "metadata": {
  "kernelspec": {
   "display_name": "Python 3 (ipykernel)",
   "language": "python",
   "name": "python3"
  },
  "language_info": {
   "codemirror_mode": {
    "name": "ipython",
    "version": 3
   },
   "file_extension": ".py",
   "mimetype": "text/x-python",
   "name": "python",
   "nbconvert_exporter": "python",
   "pygments_lexer": "ipython3",
   "version": "3.9.13"
  }
 },
 "nbformat": 4,
 "nbformat_minor": 5
}
