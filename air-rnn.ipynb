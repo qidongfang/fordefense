{
 "cells": [
  {
   "cell_type": "code",
   "execution_count": 117,
   "id": "39b5ed83",
   "metadata": {},
   "outputs": [],
   "source": [
    "import numpy as np\n",
    "import pandas as pd\n",
    "import time\n",
    "\n",
    "import matplotlib.pyplot as plt\n",
    "import seaborn as sns\n",
    "\n",
    "from sklearn.metrics import mean_squared_error, r2_score\n",
    "from sklearn.preprocessing import MinMaxScaler, StandardScaler\n",
    "\n",
    "import tensorflow as tf\n",
    "from tensorflow.keras.models import Sequential\n",
    "from tensorflow.keras.layers import Dense, SimpleRNN, LSTM, GRU, Dropout, Bidirectional\n",
    "from keras import optimizers\n"
   ]
  },
  {
   "cell_type": "code",
   "execution_count": 118,
   "id": "ef7f67d6",
   "metadata": {},
   "outputs": [
    {
     "data": {
      "text/html": [
       "<div>\n",
       "<style scoped>\n",
       "    .dataframe tbody tr th:only-of-type {\n",
       "        vertical-align: middle;\n",
       "    }\n",
       "\n",
       "    .dataframe tbody tr th {\n",
       "        vertical-align: top;\n",
       "    }\n",
       "\n",
       "    .dataframe thead th {\n",
       "        text-align: right;\n",
       "    }\n",
       "</style>\n",
       "<table border=\"1\" class=\"dataframe\">\n",
       "  <thead>\n",
       "    <tr style=\"text-align: right;\">\n",
       "      <th></th>\n",
       "      <th>Last_Check</th>\n",
       "      <th>Current_Particulate_Matter_2_5_</th>\n",
       "      <th>PM_2_5_10_Minute_Avg_</th>\n",
       "      <th>PM_2_5_30_Minute_Avg_</th>\n",
       "      <th>PM_2_5_1_Hour_Avg_</th>\n",
       "      <th>PM_2_5_6_Hour_Avg_</th>\n",
       "      <th>PM_2_5_24_Hour_Avg_</th>\n",
       "      <th>PM_2_5_One_Week_Avg_</th>\n",
       "      <th>Temp__F_</th>\n",
       "      <th>Humidity____</th>\n",
       "      <th>Pressure__mbar_</th>\n",
       "      <th>Uptime__Seconds_</th>\n",
       "      <th>RSSI__WiFi_signal_strength_dBm_</th>\n",
       "      <th>Age_of_Data_at_Check__minutes_</th>\n",
       "      <th>ObjectId</th>\n",
       "    </tr>\n",
       "  </thead>\n",
       "  <tbody>\n",
       "    <tr>\n",
       "      <th>0</th>\n",
       "      <td>2018/09/27 19:48:03+00</td>\n",
       "      <td>22.48</td>\n",
       "      <td>22.05</td>\n",
       "      <td>18.33</td>\n",
       "      <td>15.50</td>\n",
       "      <td>10.25</td>\n",
       "      <td>11.44</td>\n",
       "      <td>13.81</td>\n",
       "      <td>88</td>\n",
       "      <td>59</td>\n",
       "      <td>1002.78</td>\n",
       "      <td>3060</td>\n",
       "      <td>-84</td>\n",
       "      <td>1.0</td>\n",
       "      <td>1</td>\n",
       "    </tr>\n",
       "    <tr>\n",
       "      <th>1</th>\n",
       "      <td>2018/09/27 19:59:52+00</td>\n",
       "      <td>23.00</td>\n",
       "      <td>22.47</td>\n",
       "      <td>19.20</td>\n",
       "      <td>16.24</td>\n",
       "      <td>10.46</td>\n",
       "      <td>11.49</td>\n",
       "      <td>13.82</td>\n",
       "      <td>88</td>\n",
       "      <td>58</td>\n",
       "      <td>1003.02</td>\n",
       "      <td>3770</td>\n",
       "      <td>-84</td>\n",
       "      <td>0.0</td>\n",
       "      <td>2</td>\n",
       "    </tr>\n",
       "    <tr>\n",
       "      <th>2</th>\n",
       "      <td>2018/10/02 14:43:38+00</td>\n",
       "      <td>9.32</td>\n",
       "      <td>10.53</td>\n",
       "      <td>13.64</td>\n",
       "      <td>15.65</td>\n",
       "      <td>18.14</td>\n",
       "      <td>14.53</td>\n",
       "      <td>12.89</td>\n",
       "      <td>86</td>\n",
       "      <td>55</td>\n",
       "      <td>1011.93</td>\n",
       "      <td>7123</td>\n",
       "      <td>-92</td>\n",
       "      <td>0.0</td>\n",
       "      <td>3</td>\n",
       "    </tr>\n",
       "  </tbody>\n",
       "</table>\n",
       "</div>"
      ],
      "text/plain": [
       "               Last_Check  Current_Particulate_Matter_2_5_  \\\n",
       "0  2018/09/27 19:48:03+00                            22.48   \n",
       "1  2018/09/27 19:59:52+00                            23.00   \n",
       "2  2018/10/02 14:43:38+00                             9.32   \n",
       "\n",
       "   PM_2_5_10_Minute_Avg_  PM_2_5_30_Minute_Avg_  PM_2_5_1_Hour_Avg_  \\\n",
       "0                  22.05                  18.33               15.50   \n",
       "1                  22.47                  19.20               16.24   \n",
       "2                  10.53                  13.64               15.65   \n",
       "\n",
       "   PM_2_5_6_Hour_Avg_  PM_2_5_24_Hour_Avg_  PM_2_5_One_Week_Avg_  Temp__F_  \\\n",
       "0               10.25                11.44                 13.81        88   \n",
       "1               10.46                11.49                 13.82        88   \n",
       "2               18.14                14.53                 12.89        86   \n",
       "\n",
       "   Humidity____  Pressure__mbar_  Uptime__Seconds_  \\\n",
       "0            59          1002.78              3060   \n",
       "1            58          1003.02              3770   \n",
       "2            55          1011.93              7123   \n",
       "\n",
       "   RSSI__WiFi_signal_strength_dBm_  Age_of_Data_at_Check__minutes_  ObjectId  \n",
       "0                              -84                             1.0         1  \n",
       "1                              -84                             0.0         2  \n",
       "2                              -92                             0.0         3  "
      ]
     },
     "execution_count": 118,
     "metadata": {},
     "output_type": "execute_result"
    }
   ],
   "source": [
    "data = pd.read_csv('air-quality(1).csv')\n",
    "data.head(3)"
   ]
  },
  {
   "cell_type": "code",
   "execution_count": 119,
   "id": "0ec7d4b3",
   "metadata": {},
   "outputs": [
    {
     "data": {
      "text/plain": [
       "(12489, 15)"
      ]
     },
     "execution_count": 119,
     "metadata": {},
     "output_type": "execute_result"
    }
   ],
   "source": [
    "data.shape"
   ]
  },
  {
   "cell_type": "code",
   "execution_count": 120,
   "id": "6e452405",
   "metadata": {},
   "outputs": [],
   "source": [
    "data_selec = data[:11390]"
   ]
  },
  {
   "cell_type": "code",
   "execution_count": 121,
   "id": "6e7bf9d7",
   "metadata": {},
   "outputs": [
    {
     "data": {
      "text/plain": [
       "(11390, 15)"
      ]
     },
     "execution_count": 121,
     "metadata": {},
     "output_type": "execute_result"
    }
   ],
   "source": [
    "data_selec.shape"
   ]
  },
  {
   "cell_type": "code",
   "execution_count": 122,
   "id": "02666333",
   "metadata": {},
   "outputs": [],
   "source": [
    "train = data_selec[:8000]\n",
    "rest = data_selec[8000:]\n",
    "val = rest[:int(len(rest)*0.5)]\n",
    "test = rest[int(len(rest)*0.5):]"
   ]
  },
  {
   "cell_type": "code",
   "execution_count": 123,
   "id": "0e439e0b",
   "metadata": {},
   "outputs": [
    {
     "data": {
      "image/png": "[encoded data removed]",
      "text/plain": [
       "<Figure size 2000x500 with 1 Axes>"
      ]
     },
     "metadata": {},
     "output_type": "display_data"
    }
   ],
   "source": [
    "sns.reset_orig()\n",
    "plt.figure(figsize = (20,5))\n",
    "plt.title('Current_Particulate_Matter_2_5_', fontsize = 20)\n",
    "plt.plot(train['Current_Particulate_Matter_2_5_'], label = 'train')\n",
    "plt.plot(val['Current_Particulate_Matter_2_5_'], label = 'val')\n",
    "plt.plot(test['Current_Particulate_Matter_2_5_'], label = 'test')\n",
    "\n",
    "plt.legend(fontsize = 10)\n",
    "plt.show()"
   ]
  },
  {
   "cell_type": "code",
   "execution_count": 124,
   "id": "a88239b1",
   "metadata": {},
   "outputs": [],
   "source": [
    "X_train = train.drop(columns = {'Current_Particulate_Matter_2_5_', 'Last_Check','Age_of_Data_at_Check__minutes_'}, axis = 1)\n",
    "y_train = train.loc[:, ['Current_Particulate_Matter_2_5_']]\n",
    "\n",
    "X_val = val.drop(columns = {'Current_Particulate_Matter_2_5_', 'Last_Check','Age_of_Data_at_Check__minutes_'}, axis = 1)\n",
    "y_val = val.loc[:, ['Current_Particulate_Matter_2_5_']]\n",
    "\n",
    "X_test = test.drop(columns = {'Current_Particulate_Matter_2_5_', 'Last_Check','Age_of_Data_at_Check__minutes_'}, axis = 1)\n",
    "y_test = test.loc[:, ['Current_Particulate_Matter_2_5_']]"
   ]
  },
  {
   "cell_type": "code",
   "execution_count": 125,
   "id": "1c222763",
   "metadata": {},
   "outputs": [
    {
     "name": "stdout",
     "output_type": "stream",
     "text": [
      "(8000, 12)\n",
      "(1695, 12)\n",
      "(1695, 12)\n"
     ]
    }
   ],
   "source": [
    "print(X_train.shape)\n",
    "print(X_val.shape)\n",
    "print(X_test.shape)"
   ]
  },
  {
   "cell_type": "code",
   "execution_count": 126,
   "id": "d98391b0",
   "metadata": {},
   "outputs": [],
   "source": [
    "y_train = np.array(y_train)\n",
    "y_val = np.array(y_val)\n",
    "y_test = np.array(y_test)"
   ]
  },
  {
   "cell_type": "code",
   "execution_count": 127,
   "id": "3d44335f",
   "metadata": {},
   "outputs": [],
   "source": [
    "scaler = StandardScaler()\n",
    "x_train = scaler.fit_transform(X_train)\n",
    "x_val = scaler.transform(X_val)\n",
    "x_test = scaler.transform(X_test)"
   ]
  },
  {
   "cell_type": "code",
   "execution_count": 128,
   "id": "c8660557",
   "metadata": {},
   "outputs": [],
   "source": [
    "x_train_sca = x_train[:].reshape(-1, 1, x_train.shape[1])\n",
    "x_val_sca = x_val[:].reshape(-1, 1, x_val.shape[1])\n",
    "x_test_sca = x_test[:].reshape(-1, 1, x_test.shape[1])"
   ]
  },
  {
   "cell_type": "code",
   "execution_count": 129,
   "id": "c0ee7561",
   "metadata": {},
   "outputs": [
    {
     "data": {
      "text/plain": [
       "(8000, 1, 12)"
      ]
     },
     "execution_count": 129,
     "metadata": {},
     "output_type": "execute_result"
    }
   ],
   "source": [
    "x_train_sca.shape"
   ]
  },
  {
   "cell_type": "markdown",
   "id": "d7d9cbef",
   "metadata": {},
   "source": [
    "# RNN"
   ]
  },
  {
   "cell_type": "code",
   "execution_count": 130,
   "id": "f89a722b",
   "metadata": {},
   "outputs": [],
   "source": [
    "model_rnn = tf.keras.Sequential([\n",
    "        SimpleRNN(100, return_sequences = True, activation = 'relu'),\n",
    "        Dropout(0.1),\n",
    "        SimpleRNN(50,return_sequences=False),\n",
    "        Dropout(0.1),\n",
    "        Dense(1)])"
   ]
  },
  {
   "cell_type": "code",
   "execution_count": 131,
   "id": "7133b254",
   "metadata": {},
   "outputs": [
    {
     "name": "stderr",
     "output_type": "stream",
     "text": [
      "/Users/qidongfang/opt/anaconda3/lib/python3.9/site-packages/keras/optimizer_v2/adam.py:105: UserWarning: The `lr` argument is deprecated, use `learning_rate` instead.\n",
      "  super(Adam, self).__init__(name, **kwargs)\n"
     ]
    }
   ],
   "source": [
    "optim = tf.optimizers.Adam(lr=0.001, clipnorm=1.)"
   ]
  },
  {
   "cell_type": "code",
   "execution_count": 132,
   "id": "f66f9bdd",
   "metadata": {},
   "outputs": [],
   "source": [
    "model_rnn.compile(loss='mse',\n",
    "                 optimizer = optim, metrics = ['accuracy'])"
   ]
  },
  {
   "cell_type": "code",
   "execution_count": 133,
   "id": "5a6605ec",
   "metadata": {},
   "outputs": [
    {
     "name": "stdout",
     "output_type": "stream",
     "text": [
      "Epoch 1/50\n",
      "63/63 [==============================] - 1s 5ms/step - loss: 115.4169 - accuracy: 0.0045 - val_loss: 87.6125 - val_accuracy: 0.0000e+00\n",
      "Epoch 2/50\n",
      "63/63 [==============================] - 0s 3ms/step - loss: 45.0741 - accuracy: 0.0046 - val_loss: 53.6440 - val_accuracy: 0.0000e+00\n",
      "Epoch 3/50\n",
      "63/63 [==============================] - 0s 2ms/step - loss: 26.8918 - accuracy: 0.0054 - val_loss: 32.8172 - val_accuracy: 0.0000e+00\n",
      "Epoch 4/50\n",
      "63/63 [==============================] - 0s 2ms/step - loss: 16.0248 - accuracy: 0.0056 - val_loss: 21.8750 - val_accuracy: 0.0000e+00\n",
      "Epoch 5/50\n",
      "63/63 [==============================] - 0s 2ms/step - loss: 9.7239 - accuracy: 0.0055 - val_loss: 16.5179 - val_accuracy: 0.0000e+00\n",
      "Epoch 6/50\n",
      "63/63 [==============================] - 0s 2ms/step - loss: 6.4510 - accuracy: 0.0051 - val_loss: 13.8181 - val_accuracy: 0.0000e+00\n",
      "Epoch 7/50\n",
      "63/63 [==============================] - 0s 2ms/step - loss: 5.1235 - accuracy: 0.0051 - val_loss: 12.4290 - val_accuracy: 0.0000e+00\n",
      "Epoch 8/50\n",
      "63/63 [==============================] - 0s 2ms/step - loss: 4.2880 - accuracy: 0.0052 - val_loss: 11.5440 - val_accuracy: 0.0000e+00\n",
      "Epoch 9/50\n",
      "63/63 [==============================] - 0s 2ms/step - loss: 3.9943 - accuracy: 0.0058 - val_loss: 11.1065 - val_accuracy: 0.0000e+00\n",
      "Epoch 10/50\n",
      "63/63 [==============================] - 0s 2ms/step - loss: 3.8624 - accuracy: 0.0055 - val_loss: 10.6944 - val_accuracy: 0.0000e+00\n",
      "Epoch 11/50\n",
      "63/63 [==============================] - 0s 2ms/step - loss: 3.6452 - accuracy: 0.0051 - val_loss: 10.8293 - val_accuracy: 0.0000e+00\n",
      "Epoch 12/50\n",
      "63/63 [==============================] - 0s 2ms/step - loss: 3.4284 - accuracy: 0.0054 - val_loss: 10.0680 - val_accuracy: 0.0000e+00\n",
      "Epoch 13/50\n",
      "63/63 [==============================] - 0s 2ms/step - loss: 3.2824 - accuracy: 0.0052 - val_loss: 10.1080 - val_accuracy: 0.0000e+00\n",
      "Epoch 14/50\n",
      "63/63 [==============================] - 0s 2ms/step - loss: 3.2320 - accuracy: 0.0054 - val_loss: 9.8782 - val_accuracy: 0.0000e+00\n",
      "Epoch 15/50\n",
      "63/63 [==============================] - 0s 2ms/step - loss: 3.1298 - accuracy: 0.0050 - val_loss: 10.0592 - val_accuracy: 0.0000e+00\n",
      "Epoch 16/50\n",
      "63/63 [==============================] - 0s 2ms/step - loss: 3.1011 - accuracy: 0.0056 - val_loss: 9.6884 - val_accuracy: 0.0000e+00\n",
      "Epoch 17/50\n",
      "63/63 [==============================] - 0s 2ms/step - loss: 2.9684 - accuracy: 0.0056 - val_loss: 10.2969 - val_accuracy: 0.0000e+00\n",
      "Epoch 18/50\n",
      "63/63 [==============================] - 0s 2ms/step - loss: 2.9404 - accuracy: 0.0064 - val_loss: 9.8718 - val_accuracy: 0.0000e+00\n",
      "Epoch 19/50\n",
      "63/63 [==============================] - 0s 2ms/step - loss: 2.8931 - accuracy: 0.0061 - val_loss: 9.6772 - val_accuracy: 0.0000e+00\n",
      "Epoch 20/50\n",
      "63/63 [==============================] - 0s 3ms/step - loss: 2.8103 - accuracy: 0.0056 - val_loss: 9.9035 - val_accuracy: 0.0000e+00\n",
      "Epoch 21/50\n",
      "63/63 [==============================] - 0s 3ms/step - loss: 2.7628 - accuracy: 0.0059 - val_loss: 9.6640 - val_accuracy: 0.0000e+00\n",
      "Epoch 22/50\n",
      "63/63 [==============================] - 0s 3ms/step - loss: 2.6804 - accuracy: 0.0063 - val_loss: 10.1098 - val_accuracy: 0.0000e+00\n",
      "Epoch 23/50\n",
      "63/63 [==============================] - 0s 3ms/step - loss: 2.7094 - accuracy: 0.0055 - val_loss: 9.6582 - val_accuracy: 0.0000e+00\n",
      "Epoch 24/50\n",
      "63/63 [==============================] - 0s 3ms/step - loss: 2.6014 - accuracy: 0.0049 - val_loss: 9.3469 - val_accuracy: 0.0000e+00\n",
      "Epoch 25/50\n",
      "63/63 [==============================] - 0s 2ms/step - loss: 2.7001 - accuracy: 0.0059 - val_loss: 9.1882 - val_accuracy: 0.0000e+00\n",
      "Epoch 26/50\n",
      "63/63 [==============================] - 0s 2ms/step - loss: 2.5952 - accuracy: 0.0058 - val_loss: 9.2280 - val_accuracy: 0.0000e+00\n",
      "Epoch 27/50\n",
      "63/63 [==============================] - 0s 2ms/step - loss: 2.6507 - accuracy: 0.0058 - val_loss: 9.5389 - val_accuracy: 0.0000e+00\n",
      "Epoch 28/50\n",
      "63/63 [==============================] - 0s 2ms/step - loss: 2.4955 - accuracy: 0.0058 - val_loss: 9.3077 - val_accuracy: 0.0000e+00\n",
      "Epoch 29/50\n",
      "63/63 [==============================] - 0s 2ms/step - loss: 2.5627 - accuracy: 0.0063 - val_loss: 9.2844 - val_accuracy: 0.0000e+00\n",
      "Epoch 30/50\n"
     ]
    },
    {
     "ename": "KeyboardInterrupt",
     "evalue": "",
     "output_type": "error",
     "traceback": [
      "\u001b[0;31m---------------------------------------------------------------------------\u001b[0m",
      "\u001b[0;31mKeyboardInterrupt\u001b[0m                         Traceback (most recent call last)",
      "\u001b[0;32m<timed eval>\u001b[0m in \u001b[0;36m<module>\u001b[0;34m\u001b[0m\n",
      "\u001b[0;32m~/opt/anaconda3/lib/python3.9/site-packages/keras/utils/traceback_utils.py\u001b[0m in \u001b[0;36merror_handler\u001b[0;34m(*args, **kwargs)\u001b[0m\n\u001b[1;32m     62\u001b[0m     \u001b[0mfiltered_tb\u001b[0m \u001b[0;34m=\u001b[0m \u001b[0;32mNone\u001b[0m\u001b[0;34m\u001b[0m\u001b[0;34m\u001b[0m\u001b[0m\n\u001b[1;32m     63\u001b[0m     \u001b[0;32mtry\u001b[0m\u001b[0;34m:\u001b[0m\u001b[0;34m\u001b[0m\u001b[0;34m\u001b[0m\u001b[0m\n\u001b[0;32m---> 64\u001b[0;31m       \u001b[0;32mreturn\u001b[0m \u001b[0mfn\u001b[0m\u001b[0;34m(\u001b[0m\u001b[0;34m*\u001b[0m\u001b[0margs\u001b[0m\u001b[0;34m,\u001b[0m \u001b[0;34m**\u001b[0m\u001b[0mkwargs\u001b[0m\u001b[0;34m)\u001b[0m\u001b[0;34m\u001b[0m\u001b[0;34m\u001b[0m\u001b[0m\n\u001b[0m\u001b[1;32m     65\u001b[0m     \u001b[0;32mexcept\u001b[0m \u001b[0mException\u001b[0m \u001b[0;32mas\u001b[0m \u001b[0me\u001b[0m\u001b[0;34m:\u001b[0m  \u001b[0;31m# pylint: disable=broad-except\u001b[0m\u001b[0;34m\u001b[0m\u001b[0;34m\u001b[0m\u001b[0m\n\u001b[1;32m     66\u001b[0m       \u001b[0mfiltered_tb\u001b[0m \u001b[0;34m=\u001b[0m \u001b[0m_process_traceback_frames\u001b[0m\u001b[0;34m(\u001b[0m\u001b[0me\u001b[0m\u001b[0;34m.\u001b[0m\u001b[0m__traceback__\u001b[0m\u001b[0;34m)\u001b[0m\u001b[0;34m\u001b[0m\u001b[0;34m\u001b[0m\u001b[0m\n",
      "\u001b[0;32m~/opt/anaconda3/lib/python3.9/site-packages/keras/engine/training.py\u001b[0m in \u001b[0;36mfit\u001b[0;34m(self, x, y, batch_size, epochs, verbose, callbacks, validation_split, validation_data, shuffle, class_weight, sample_weight, initial_epoch, steps_per_epoch, validation_steps, validation_batch_size, validation_freq, max_queue_size, workers, use_multiprocessing)\u001b[0m\n\u001b[1;32m   1214\u001b[0m                 _r=1):\n\u001b[1;32m   1215\u001b[0m               \u001b[0mcallbacks\u001b[0m\u001b[0;34m.\u001b[0m\u001b[0mon_train_batch_begin\u001b[0m\u001b[0;34m(\u001b[0m\u001b[0mstep\u001b[0m\u001b[0;34m)\u001b[0m\u001b[0;34m\u001b[0m\u001b[0;34m\u001b[0m\u001b[0m\n\u001b[0;32m-> 1216\u001b[0;31m               \u001b[0mtmp_logs\u001b[0m \u001b[0;34m=\u001b[0m \u001b[0mself\u001b[0m\u001b[0;34m.\u001b[0m\u001b[0mtrain_function\u001b[0m\u001b[0;34m(\u001b[0m\u001b[0miterator\u001b[0m\u001b[0;34m)\u001b[0m\u001b[0;34m\u001b[0m\u001b[0;34m\u001b[0m\u001b[0m\n\u001b[0m\u001b[1;32m   1217\u001b[0m               \u001b[0;32mif\u001b[0m \u001b[0mdata_handler\u001b[0m\u001b[0;34m.\u001b[0m\u001b[0mshould_sync\u001b[0m\u001b[0;34m:\u001b[0m\u001b[0;34m\u001b[0m\u001b[0;34m\u001b[0m\u001b[0m\n\u001b[1;32m   1218\u001b[0m                 \u001b[0mcontext\u001b[0m\u001b[0;34m.\u001b[0m\u001b[0masync_wait\u001b[0m\u001b[0;34m(\u001b[0m\u001b[0;34m)\u001b[0m\u001b[0;34m\u001b[0m\u001b[0;34m\u001b[0m\u001b[0m\n",
      "\u001b[0;32m~/opt/anaconda3/lib/python3.9/site-packages/tensorflow/python/util/traceback_utils.py\u001b[0m in \u001b[0;36merror_handler\u001b[0;34m(*args, **kwargs)\u001b[0m\n\u001b[1;32m    148\u001b[0m     \u001b[0mfiltered_tb\u001b[0m \u001b[0;34m=\u001b[0m \u001b[0;32mNone\u001b[0m\u001b[0;34m\u001b[0m\u001b[0;34m\u001b[0m\u001b[0m\n\u001b[1;32m    149\u001b[0m     \u001b[0;32mtry\u001b[0m\u001b[0;34m:\u001b[0m\u001b[0;34m\u001b[0m\u001b[0;34m\u001b[0m\u001b[0m\n\u001b[0;32m--> 150\u001b[0;31m       \u001b[0;32mreturn\u001b[0m \u001b[0mfn\u001b[0m\u001b[0;34m(\u001b[0m\u001b[0;34m*\u001b[0m\u001b[0margs\u001b[0m\u001b[0;34m,\u001b[0m \u001b[0;34m**\u001b[0m\u001b[0mkwargs\u001b[0m\u001b[0;34m)\u001b[0m\u001b[0;34m\u001b[0m\u001b[0;34m\u001b[0m\u001b[0m\n\u001b[0m\u001b[1;32m    151\u001b[0m     \u001b[0;32mexcept\u001b[0m \u001b[0mException\u001b[0m \u001b[0;32mas\u001b[0m \u001b[0me\u001b[0m\u001b[0;34m:\u001b[0m\u001b[0;34m\u001b[0m\u001b[0;34m\u001b[0m\u001b[0m\n\u001b[1;32m    152\u001b[0m       \u001b[0mfiltered_tb\u001b[0m \u001b[0;34m=\u001b[0m \u001b[0m_process_traceback_frames\u001b[0m\u001b[0;34m(\u001b[0m\u001b[0me\u001b[0m\u001b[0;34m.\u001b[0m\u001b[0m__traceback__\u001b[0m\u001b[0;34m)\u001b[0m\u001b[0;34m\u001b[0m\u001b[0;34m\u001b[0m\u001b[0m\n",
      "\u001b[0;32m~/opt/anaconda3/lib/python3.9/site-packages/tensorflow/python/eager/def_function.py\u001b[0m in \u001b[0;36m__call__\u001b[0;34m(self, *args, **kwds)\u001b[0m\n\u001b[1;32m    918\u001b[0m     \u001b[0;32mif\u001b[0m \u001b[0mcontext\u001b[0m\u001b[0;34m.\u001b[0m\u001b[0mexecuting_eagerly\u001b[0m\u001b[0;34m(\u001b[0m\u001b[0;34m)\u001b[0m\u001b[0;34m:\u001b[0m\u001b[0;34m\u001b[0m\u001b[0;34m\u001b[0m\u001b[0m\n\u001b[1;32m    919\u001b[0m       \u001b[0;32mif\u001b[0m \u001b[0mwithout_tracing\u001b[0m\u001b[0;34m:\u001b[0m\u001b[0;34m\u001b[0m\u001b[0;34m\u001b[0m\u001b[0m\n\u001b[0;32m--> 920\u001b[0;31m         _frequent_tracing_detector_manager.called_without_tracing(\n\u001b[0m\u001b[1;32m    921\u001b[0m             self._key_for_call_stats)\n\u001b[1;32m    922\u001b[0m       \u001b[0;32melse\u001b[0m\u001b[0;34m:\u001b[0m\u001b[0;34m\u001b[0m\u001b[0;34m\u001b[0m\u001b[0m\n",
      "\u001b[0;32m~/opt/anaconda3/lib/python3.9/site-packages/tensorflow/python/eager/def_function.py\u001b[0m in \u001b[0;36mcalled_without_tracing\u001b[0;34m(self, key)\u001b[0m\n\u001b[1;32m    188\u001b[0m   \u001b[0;32mdef\u001b[0m \u001b[0mcalled_without_tracing\u001b[0m\u001b[0;34m(\u001b[0m\u001b[0mself\u001b[0m\u001b[0;34m,\u001b[0m \u001b[0mkey\u001b[0m\u001b[0;34m)\u001b[0m\u001b[0;34m:\u001b[0m\u001b[0;34m\u001b[0m\u001b[0;34m\u001b[0m\u001b[0m\n\u001b[1;32m    189\u001b[0m     \u001b[0;32mwith\u001b[0m \u001b[0mself\u001b[0m\u001b[0;34m.\u001b[0m\u001b[0m_lock\u001b[0m\u001b[0;34m:\u001b[0m\u001b[0;34m\u001b[0m\u001b[0;34m\u001b[0m\u001b[0m\n\u001b[0;32m--> 190\u001b[0;31m       \u001b[0mdetector\u001b[0m \u001b[0;34m=\u001b[0m \u001b[0mself\u001b[0m\u001b[0;34m.\u001b[0m\u001b[0m_get_detector\u001b[0m\u001b[0;34m(\u001b[0m\u001b[0mkey\u001b[0m\u001b[0;34m)\u001b[0m\u001b[0;34m\u001b[0m\u001b[0;34m\u001b[0m\u001b[0m\n\u001b[0m\u001b[1;32m    191\u001b[0m       \u001b[0mdetector\u001b[0m\u001b[0;34m.\u001b[0m\u001b[0mcalled_without_tracing\u001b[0m\u001b[0;34m(\u001b[0m\u001b[0;34m)\u001b[0m\u001b[0;34m\u001b[0m\u001b[0;34m\u001b[0m\u001b[0m\n\u001b[1;32m    192\u001b[0m \u001b[0;34m\u001b[0m\u001b[0m\n",
      "\u001b[0;32m~/opt/anaconda3/lib/python3.9/site-packages/tensorflow/python/eager/def_function.py\u001b[0m in \u001b[0;36m_get_detector\u001b[0;34m(self, key)\u001b[0m\n\u001b[1;32m    184\u001b[0m     \u001b[0;32mif\u001b[0m \u001b[0mkey\u001b[0m \u001b[0;32mnot\u001b[0m \u001b[0;32min\u001b[0m \u001b[0mself\u001b[0m\u001b[0;34m.\u001b[0m\u001b[0m_detectors\u001b[0m\u001b[0;34m:\u001b[0m\u001b[0;34m\u001b[0m\u001b[0;34m\u001b[0m\u001b[0m\n\u001b[1;32m    185\u001b[0m       \u001b[0mself\u001b[0m\u001b[0;34m.\u001b[0m\u001b[0m_detectors\u001b[0m\u001b[0;34m[\u001b[0m\u001b[0mkey\u001b[0m\u001b[0;34m]\u001b[0m \u001b[0;34m=\u001b[0m \u001b[0m_FrequentTracingDetector\u001b[0m\u001b[0;34m(\u001b[0m\u001b[0;34m)\u001b[0m\u001b[0;34m\u001b[0m\u001b[0;34m\u001b[0m\u001b[0m\n\u001b[0;32m--> 186\u001b[0;31m     \u001b[0;32mreturn\u001b[0m \u001b[0mself\u001b[0m\u001b[0;34m.\u001b[0m\u001b[0m_detectors\u001b[0m\u001b[0;34m[\u001b[0m\u001b[0mkey\u001b[0m\u001b[0;34m]\u001b[0m\u001b[0;34m\u001b[0m\u001b[0;34m\u001b[0m\u001b[0m\n\u001b[0m\u001b[1;32m    187\u001b[0m \u001b[0;34m\u001b[0m\u001b[0m\n\u001b[1;32m    188\u001b[0m   \u001b[0;32mdef\u001b[0m \u001b[0mcalled_without_tracing\u001b[0m\u001b[0;34m(\u001b[0m\u001b[0mself\u001b[0m\u001b[0;34m,\u001b[0m \u001b[0mkey\u001b[0m\u001b[0;34m)\u001b[0m\u001b[0;34m:\u001b[0m\u001b[0;34m\u001b[0m\u001b[0;34m\u001b[0m\u001b[0m\n",
      "\u001b[0;31mKeyboardInterrupt\u001b[0m: "
     ]
    }
   ],
   "source": [
    "%%time\n",
    "model_rnn.fit(\n",
    "         x_train_sca,y_train,\n",
    "         batch_size = 128,\n",
    "         epochs = 50,\n",
    "         validation_data = (x_val_sca, y_val)\n",
    ")"
   ]
  },
  {
   "cell_type": "code",
   "execution_count": 134,
   "id": "fbdc358c",
   "metadata": {},
   "outputs": [],
   "source": [
    "prediction = model_rnn.predict(x_val_sca)"
   ]
  },
  {
   "cell_type": "code",
   "execution_count": 135,
   "id": "7bc0b469",
   "metadata": {},
   "outputs": [
    {
     "name": "stdout",
     "output_type": "stream",
     "text": [
      "0.7306807465573578\n",
      "9.169899094820392\n"
     ]
    }
   ],
   "source": [
    "r2 = r2_score(prediction,y_val)\n",
    "mse = mean_squared_error(prediction, y_val)\n",
    "print(r2)\n",
    "print(mse)"
   ]
  },
  {
   "cell_type": "code",
   "execution_count": null,
   "id": "c53c5fbc",
   "metadata": {},
   "outputs": [],
   "source": []
  },
  {
   "cell_type": "code",
   "execution_count": 136,
   "id": "541db083",
   "metadata": {},
   "outputs": [],
   "source": [
    "prediction = model_rnn.predict(x_test_sca)"
   ]
  },
  {
   "cell_type": "code",
   "execution_count": 137,
   "id": "b834fb7d",
   "metadata": {},
   "outputs": [],
   "source": [
    "pd.DataFrame(prediction).to_csv('rnn.csv',index = False)"
   ]
  },
  {
   "cell_type": "code",
   "execution_count": 139,
   "id": "8b3d5a13",
   "metadata": {},
   "outputs": [
    {
     "name": "stdout",
     "output_type": "stream",
     "text": [
      "0.8171322261274256\n",
      "6.678386705834464\n"
     ]
    }
   ],
   "source": [
    "#test performance\n",
    "r2 = r2_score(prediction,y_test)\n",
    "mse = mean_squared_error(prediction,y_test)\n",
    "print(r2)\n",
    "print(mse)"
   ]
  },
  {
   "cell_type": "markdown",
   "id": "10cc4381",
   "metadata": {},
   "source": [
    "# LSTM"
   ]
  },
  {
   "cell_type": "code",
   "execution_count": 96,
   "id": "f1c97b5b",
   "metadata": {},
   "outputs": [],
   "source": [
    "model_lstm = tf.keras.Sequential([\n",
    "    LSTM(100, return_sequences=True,activation='relu'),\n",
    "    Dropout(0.1),\n",
    "    LSTM(50,return_sequences=False),\n",
    "    Dropout(0.1),\n",
    "    Dense(1)\n",
    "])"
   ]
  },
  {
   "cell_type": "code",
   "execution_count": 97,
   "id": "d8f9e5a6",
   "metadata": {},
   "outputs": [
    {
     "name": "stderr",
     "output_type": "stream",
     "text": [
      "/Users/qidongfang/opt/anaconda3/lib/python3.9/site-packages/keras/optimizer_v2/adam.py:105: UserWarning: The `lr` argument is deprecated, use `learning_rate` instead.\n",
      "  super(Adam, self).__init__(name, **kwargs)\n"
     ]
    }
   ],
   "source": [
    "optim = tf.optimizers.Adam(lr=0.001, clipnorm=1.)"
   ]
  },
  {
   "cell_type": "code",
   "execution_count": 98,
   "id": "afec25c4",
   "metadata": {},
   "outputs": [],
   "source": [
    "model_lstm.compile(loss='mse',\n",
    "                  optimizer = optim, metrics = ['accuracy'])"
   ]
  },
  {
   "cell_type": "code",
   "execution_count": 99,
   "id": "4e8583a2",
   "metadata": {},
   "outputs": [
    {
     "name": "stdout",
     "output_type": "stream",
     "text": [
      "Epoch 1/50\n",
      "63/63 [==============================] - 2s 9ms/step - loss: 193.1615 - accuracy: 0.0031 - val_loss: 189.8926 - val_accuracy: 0.0000e+00\n",
      "Epoch 2/50\n",
      "63/63 [==============================] - 0s 4ms/step - loss: 92.8780 - accuracy: 0.0054 - val_loss: 81.3951 - val_accuracy: 0.0000e+00\n",
      "Epoch 3/50\n",
      "63/63 [==============================] - 0s 4ms/step - loss: 46.3428 - accuracy: 0.0054 - val_loss: 57.1630 - val_accuracy: 0.0000e+00\n",
      "Epoch 4/50\n",
      "63/63 [==============================] - 0s 4ms/step - loss: 30.5364 - accuracy: 0.0054 - val_loss: 41.9738 - val_accuracy: 0.0000e+00\n",
      "Epoch 5/50\n",
      "63/63 [==============================] - 0s 4ms/step - loss: 20.8128 - accuracy: 0.0054 - val_loss: 29.7578 - val_accuracy: 0.0000e+00\n",
      "Epoch 6/50\n",
      "63/63 [==============================] - 0s 4ms/step - loss: 13.8785 - accuracy: 0.0054 - val_loss: 22.5736 - val_accuracy: 0.0000e+00\n",
      "Epoch 7/50\n",
      "63/63 [==============================] - 0s 4ms/step - loss: 9.3691 - accuracy: 0.0054 - val_loss: 21.6923 - val_accuracy: 0.0000e+00\n",
      "Epoch 8/50\n",
      "63/63 [==============================] - 0s 4ms/step - loss: 6.6552 - accuracy: 0.0054 - val_loss: 17.2333 - val_accuracy: 0.0000e+00\n",
      "Epoch 9/50\n",
      "63/63 [==============================] - 0s 4ms/step - loss: 4.9296 - accuracy: 0.0054 - val_loss: 15.2334 - val_accuracy: 0.0000e+00\n",
      "Epoch 10/50\n",
      "63/63 [==============================] - 0s 4ms/step - loss: 4.0610 - accuracy: 0.0054 - val_loss: 13.7120 - val_accuracy: 0.0000e+00\n",
      "Epoch 11/50\n",
      "63/63 [==============================] - 0s 4ms/step - loss: 3.6542 - accuracy: 0.0054 - val_loss: 12.7594 - val_accuracy: 0.0000e+00\n",
      "Epoch 12/50\n",
      "63/63 [==============================] - 0s 4ms/step - loss: 3.2640 - accuracy: 0.0054 - val_loss: 12.0301 - val_accuracy: 0.0000e+00\n",
      "Epoch 13/50\n",
      "63/63 [==============================] - 0s 4ms/step - loss: 3.1902 - accuracy: 0.0054 - val_loss: 11.3495 - val_accuracy: 0.0000e+00\n",
      "Epoch 14/50\n",
      "63/63 [==============================] - 0s 4ms/step - loss: 2.9608 - accuracy: 0.0054 - val_loss: 10.7453 - val_accuracy: 0.0000e+00\n",
      "Epoch 15/50\n",
      "63/63 [==============================] - 0s 4ms/step - loss: 2.8952 - accuracy: 0.0054 - val_loss: 10.3822 - val_accuracy: 0.0000e+00\n",
      "Epoch 16/50\n",
      "63/63 [==============================] - 0s 4ms/step - loss: 2.6953 - accuracy: 0.0054 - val_loss: 9.9654 - val_accuracy: 0.0000e+00\n",
      "Epoch 17/50\n",
      "63/63 [==============================] - 0s 4ms/step - loss: 2.7451 - accuracy: 0.0054 - val_loss: 10.0396 - val_accuracy: 0.0000e+00\n",
      "Epoch 18/50\n",
      "63/63 [==============================] - 0s 4ms/step - loss: 2.6816 - accuracy: 0.0054 - val_loss: 10.1126 - val_accuracy: 0.0000e+00\n",
      "Epoch 19/50\n",
      "63/63 [==============================] - 0s 4ms/step - loss: 2.5567 - accuracy: 0.0054 - val_loss: 9.7660 - val_accuracy: 0.0000e+00\n",
      "Epoch 20/50\n",
      "63/63 [==============================] - 0s 4ms/step - loss: 2.6650 - accuracy: 0.0054 - val_loss: 9.5517 - val_accuracy: 0.0000e+00\n",
      "Epoch 21/50\n",
      "63/63 [==============================] - 0s 4ms/step - loss: 2.5117 - accuracy: 0.0054 - val_loss: 9.2313 - val_accuracy: 0.0000e+00\n",
      "Epoch 22/50\n",
      "63/63 [==============================] - 0s 4ms/step - loss: 2.5341 - accuracy: 0.0054 - val_loss: 9.3965 - val_accuracy: 0.0000e+00\n",
      "Epoch 23/50\n",
      "63/63 [==============================] - 0s 4ms/step - loss: 2.5354 - accuracy: 0.0055 - val_loss: 9.4628 - val_accuracy: 0.0000e+00\n",
      "Epoch 24/50\n",
      "63/63 [==============================] - 0s 4ms/step - loss: 2.4748 - accuracy: 0.0055 - val_loss: 9.7015 - val_accuracy: 0.0000e+00\n",
      "Epoch 25/50\n",
      "63/63 [==============================] - 0s 4ms/step - loss: 2.4601 - accuracy: 0.0055 - val_loss: 9.0803 - val_accuracy: 0.0000e+00\n",
      "Epoch 26/50\n",
      "63/63 [==============================] - 0s 4ms/step - loss: 2.5012 - accuracy: 0.0055 - val_loss: 9.0863 - val_accuracy: 0.0000e+00\n",
      "Epoch 27/50\n",
      "63/63 [==============================] - 0s 4ms/step - loss: 2.4627 - accuracy: 0.0059 - val_loss: 9.5825 - val_accuracy: 0.0000e+00\n",
      "Epoch 28/50\n",
      "63/63 [==============================] - 0s 4ms/step - loss: 2.4411 - accuracy: 0.0055 - val_loss: 8.7021 - val_accuracy: 0.0000e+00\n",
      "Epoch 29/50\n",
      "63/63 [==============================] - 0s 4ms/step - loss: 2.3224 - accuracy: 0.0055 - val_loss: 9.0125 - val_accuracy: 0.0000e+00\n",
      "Epoch 30/50\n",
      "63/63 [==============================] - 0s 4ms/step - loss: 2.3646 - accuracy: 0.0056 - val_loss: 8.7579 - val_accuracy: 0.0000e+00\n",
      "Epoch 31/50\n",
      "63/63 [==============================] - 0s 4ms/step - loss: 2.3669 - accuracy: 0.0055 - val_loss: 8.6585 - val_accuracy: 0.0000e+00\n",
      "Epoch 32/50\n",
      "63/63 [==============================] - 0s 4ms/step - loss: 2.3113 - accuracy: 0.0059 - val_loss: 8.7568 - val_accuracy: 0.0000e+00\n",
      "Epoch 33/50\n",
      "63/63 [==============================] - 0s 4ms/step - loss: 2.2543 - accuracy: 0.0056 - val_loss: 8.9207 - val_accuracy: 0.0000e+00\n",
      "Epoch 34/50\n",
      "63/63 [==============================] - 0s 4ms/step - loss: 2.3272 - accuracy: 0.0058 - val_loss: 8.4535 - val_accuracy: 0.0000e+00\n",
      "Epoch 35/50\n",
      "63/63 [==============================] - 0s 5ms/step - loss: 2.2800 - accuracy: 0.0056 - val_loss: 8.5672 - val_accuracy: 0.0000e+00\n",
      "Epoch 36/50\n",
      "63/63 [==============================] - 0s 5ms/step - loss: 2.3024 - accuracy: 0.0059 - val_loss: 8.7829 - val_accuracy: 0.0000e+00\n",
      "Epoch 37/50\n",
      "63/63 [==============================] - 0s 4ms/step - loss: 2.2591 - accuracy: 0.0058 - val_loss: 8.9026 - val_accuracy: 0.0000e+00\n",
      "Epoch 38/50\n",
      "63/63 [==============================] - 0s 4ms/step - loss: 2.2975 - accuracy: 0.0060 - val_loss: 8.7123 - val_accuracy: 0.0000e+00\n",
      "Epoch 39/50\n",
      "63/63 [==============================] - 0s 5ms/step - loss: 2.2286 - accuracy: 0.0056 - val_loss: 8.3210 - val_accuracy: 0.0000e+00\n",
      "Epoch 40/50\n",
      "63/63 [==============================] - 0s 6ms/step - loss: 2.2695 - accuracy: 0.0058 - val_loss: 8.4564 - val_accuracy: 0.0000e+00\n",
      "Epoch 41/50\n",
      "63/63 [==============================] - 0s 5ms/step - loss: 2.2750 - accuracy: 0.0058 - val_loss: 8.3299 - val_accuracy: 0.0000e+00\n",
      "Epoch 42/50\n",
      "63/63 [==============================] - 0s 5ms/step - loss: 2.2243 - accuracy: 0.0060 - val_loss: 8.7429 - val_accuracy: 0.0000e+00\n",
      "Epoch 43/50\n",
      "63/63 [==============================] - 0s 5ms/step - loss: 2.2202 - accuracy: 0.0060 - val_loss: 8.4798 - val_accuracy: 0.0000e+00\n",
      "Epoch 44/50\n",
      "63/63 [==============================] - 0s 5ms/step - loss: 2.1928 - accuracy: 0.0064 - val_loss: 8.7448 - val_accuracy: 0.0000e+00\n",
      "Epoch 45/50\n",
      "63/63 [==============================] - 0s 5ms/step - loss: 2.2155 - accuracy: 0.0058 - val_loss: 8.1911 - val_accuracy: 0.0000e+00\n",
      "Epoch 46/50\n",
      "63/63 [==============================] - 0s 5ms/step - loss: 2.1241 - accuracy: 0.0063 - val_loss: 8.7441 - val_accuracy: 0.0000e+00\n",
      "Epoch 47/50\n",
      "63/63 [==============================] - 0s 5ms/step - loss: 2.1385 - accuracy: 0.0063 - val_loss: 8.4640 - val_accuracy: 0.0000e+00\n",
      "Epoch 48/50\n",
      "63/63 [==============================] - 0s 5ms/step - loss: 2.1265 - accuracy: 0.0063 - val_loss: 8.4466 - val_accuracy: 0.0000e+00\n",
      "Epoch 49/50\n",
      "63/63 [==============================] - 0s 5ms/step - loss: 2.1834 - accuracy: 0.0064 - val_loss: 8.4974 - val_accuracy: 0.0000e+00\n",
      "Epoch 50/50\n",
      "63/63 [==============================] - 0s 5ms/step - loss: 2.1843 - accuracy: 0.0060 - val_loss: 8.3244 - val_accuracy: 0.0000e+00\n",
      "CPU times: user 28.9 s, sys: 9.91 s, total: 38.8 s\n",
      "Wall time: 16 s\n"
     ]
    },
    {
     "data": {
      "text/plain": [
       "<keras.callbacks.History at 0x7f82260b6880>"
      ]
     },
     "execution_count": 99,
     "metadata": {},
     "output_type": "execute_result"
    }
   ],
   "source": [
    "%%time\n",
    "model_lstm.fit(\n",
    "      x_train_sca,y_train,\n",
    "      batch_size = 128,\n",
    "      epochs = 50,\n",
    "      validation_data = (x_val_sca, y_val)  \n",
    ")"
   ]
  },
  {
   "cell_type": "code",
   "execution_count": 100,
   "id": "6b229d1e",
   "metadata": {},
   "outputs": [],
   "source": [
    "prediction_lstm = model_lstm.predict(x_val_sca)"
   ]
  },
  {
   "cell_type": "code",
   "execution_count": 101,
   "id": "98108fbf",
   "metadata": {},
   "outputs": [
    {
     "name": "stdout",
     "output_type": "stream",
     "text": [
      "0.7375334728688757\n",
      "8.324427697304086\n"
     ]
    }
   ],
   "source": [
    "r2 = r2_score(prediction_lstm, y_val)\n",
    "mse = mean_squared_error(prediction_lstm, y_val)\n",
    "print(r2)\n",
    "print(mse)"
   ]
  },
  {
   "cell_type": "code",
   "execution_count": 102,
   "id": "756b056d",
   "metadata": {},
   "outputs": [],
   "source": [
    "prediction_lstm = model_lstm.predict(x_test_sca)"
   ]
  },
  {
   "cell_type": "code",
   "execution_count": 103,
   "id": "bbe91208",
   "metadata": {},
   "outputs": [],
   "source": [
    "pd.DataFrame(prediction_lstm).to_csv('lstm.csv',index = False)"
   ]
  },
  {
   "cell_type": "code",
   "execution_count": 104,
   "id": "f9408c8f",
   "metadata": {},
   "outputs": [
    {
     "name": "stdout",
     "output_type": "stream",
     "text": [
      "0.7533398920045975\n",
      "8.20275635784824\n"
     ]
    }
   ],
   "source": [
    "r2 = r2_score(prediction_lstm, y_test)\n",
    "mse = mean_squared_error(prediction_lstm,y_test)\n",
    "print(r2)\n",
    "print(mse)"
   ]
  },
  {
   "cell_type": "markdown",
   "id": "b700bc55",
   "metadata": {},
   "source": [
    "# GRU"
   ]
  },
  {
   "cell_type": "code",
   "execution_count": 105,
   "id": "426fd945",
   "metadata": {},
   "outputs": [],
   "source": [
    "model_gru = tf.keras.Sequential([\n",
    "    GRU(100,return_sequences=True,activation='relu'),\n",
    "    Dropout(0.1),\n",
    "    GRU(50,return_sequences=False),\n",
    "    Dropout(0.1),\n",
    "    Dense(1)\n",
    "])"
   ]
  },
  {
   "cell_type": "code",
   "execution_count": 106,
   "id": "9106d8da",
   "metadata": {},
   "outputs": [
    {
     "name": "stderr",
     "output_type": "stream",
     "text": [
      "/Users/qidongfang/opt/anaconda3/lib/python3.9/site-packages/keras/optimizer_v2/adam.py:105: UserWarning: The `lr` argument is deprecated, use `learning_rate` instead.\n",
      "  super(Adam, self).__init__(name, **kwargs)\n"
     ]
    }
   ],
   "source": [
    "optim = tf.optimizers.Adam(lr=0.001, clipnorm=1.)"
   ]
  },
  {
   "cell_type": "code",
   "execution_count": 107,
   "id": "546db39e",
   "metadata": {},
   "outputs": [],
   "source": [
    "model_gru.compile(loss = 'mse',\n",
    "                 optimizer = optim, metrics = ['accuracy'])"
   ]
  },
  {
   "cell_type": "code",
   "execution_count": 108,
   "id": "07cefab0",
   "metadata": {},
   "outputs": [
    {
     "name": "stdout",
     "output_type": "stream",
     "text": [
      "Epoch 1/50\n",
      "63/63 [==============================] - 3s 9ms/step - loss: 160.7122 - accuracy: 0.0043 - val_loss: 109.8212 - val_accuracy: 0.0000e+00\n",
      "Epoch 2/50\n",
      "63/63 [==============================] - 0s 4ms/step - loss: 55.3421 - accuracy: 0.0054 - val_loss: 58.2500 - val_accuracy: 0.0000e+00\n",
      "Epoch 3/50\n",
      "63/63 [==============================] - 0s 4ms/step - loss: 29.1593 - accuracy: 0.0054 - val_loss: 37.2740 - val_accuracy: 0.0000e+00\n",
      "Epoch 4/50\n",
      "63/63 [==============================] - 0s 4ms/step - loss: 17.3484 - accuracy: 0.0054 - val_loss: 24.8360 - val_accuracy: 0.0000e+00\n",
      "Epoch 5/50\n",
      "63/63 [==============================] - 0s 4ms/step - loss: 10.1820 - accuracy: 0.0054 - val_loss: 18.7640 - val_accuracy: 0.0000e+00\n",
      "Epoch 6/50\n",
      "63/63 [==============================] - 0s 4ms/step - loss: 6.4538 - accuracy: 0.0058 - val_loss: 15.8435 - val_accuracy: 0.0000e+00\n",
      "Epoch 7/50\n",
      "63/63 [==============================] - 0s 4ms/step - loss: 4.5463 - accuracy: 0.0059 - val_loss: 12.9445 - val_accuracy: 0.0000e+00\n",
      "Epoch 8/50\n",
      "63/63 [==============================] - 0s 4ms/step - loss: 3.9230 - accuracy: 0.0060 - val_loss: 11.2676 - val_accuracy: 0.0000e+00\n",
      "Epoch 9/50\n",
      "63/63 [==============================] - 0s 4ms/step - loss: 3.4458 - accuracy: 0.0061 - val_loss: 10.6342 - val_accuracy: 0.0000e+00\n",
      "Epoch 10/50\n",
      "63/63 [==============================] - 0s 4ms/step - loss: 3.2448 - accuracy: 0.0060 - val_loss: 10.0819 - val_accuracy: 0.0000e+00\n",
      "Epoch 11/50\n",
      "63/63 [==============================] - 0s 4ms/step - loss: 3.1730 - accuracy: 0.0063 - val_loss: 10.3632 - val_accuracy: 0.0000e+00\n",
      "Epoch 12/50\n",
      "63/63 [==============================] - 0s 4ms/step - loss: 2.9466 - accuracy: 0.0065 - val_loss: 10.1448 - val_accuracy: 0.0000e+00\n",
      "Epoch 13/50\n",
      "63/63 [==============================] - 0s 4ms/step - loss: 2.9150 - accuracy: 0.0065 - val_loss: 9.7261 - val_accuracy: 0.0000e+00\n",
      "Epoch 14/50\n",
      "63/63 [==============================] - 0s 4ms/step - loss: 2.8768 - accuracy: 0.0060 - val_loss: 10.0694 - val_accuracy: 0.0000e+00\n",
      "Epoch 15/50\n",
      "63/63 [==============================] - 0s 4ms/step - loss: 2.8387 - accuracy: 0.0064 - val_loss: 9.3816 - val_accuracy: 0.0000e+00\n",
      "Epoch 16/50\n",
      "63/63 [==============================] - 0s 4ms/step - loss: 2.6983 - accuracy: 0.0066 - val_loss: 9.8730 - val_accuracy: 0.0000e+00\n",
      "Epoch 17/50\n",
      "63/63 [==============================] - 0s 4ms/step - loss: 2.6454 - accuracy: 0.0064 - val_loss: 9.8312 - val_accuracy: 0.0000e+00\n",
      "Epoch 18/50\n",
      "63/63 [==============================] - 0s 4ms/step - loss: 2.5932 - accuracy: 0.0056 - val_loss: 9.1633 - val_accuracy: 0.0000e+00\n",
      "Epoch 19/50\n",
      "63/63 [==============================] - 0s 4ms/step - loss: 2.5861 - accuracy: 0.0064 - val_loss: 9.1719 - val_accuracy: 0.0000e+00\n",
      "Epoch 20/50\n",
      "63/63 [==============================] - 0s 4ms/step - loss: 2.6017 - accuracy: 0.0063 - val_loss: 9.3769 - val_accuracy: 0.0000e+00\n",
      "Epoch 21/50\n",
      "63/63 [==============================] - 0s 4ms/step - loss: 2.5697 - accuracy: 0.0061 - val_loss: 9.3750 - val_accuracy: 0.0000e+00\n",
      "Epoch 22/50\n",
      "63/63 [==============================] - 0s 4ms/step - loss: 2.5377 - accuracy: 0.0059 - val_loss: 9.2661 - val_accuracy: 0.0000e+00\n",
      "Epoch 23/50\n",
      "63/63 [==============================] - 0s 4ms/step - loss: 2.5138 - accuracy: 0.0065 - val_loss: 9.0434 - val_accuracy: 0.0000e+00\n",
      "Epoch 24/50\n",
      "63/63 [==============================] - 0s 4ms/step - loss: 2.4768 - accuracy: 0.0066 - val_loss: 9.3339 - val_accuracy: 0.0000e+00\n",
      "Epoch 25/50\n",
      "63/63 [==============================] - 0s 4ms/step - loss: 2.4876 - accuracy: 0.0064 - val_loss: 9.0400 - val_accuracy: 0.0000e+00\n",
      "Epoch 26/50\n",
      "63/63 [==============================] - 0s 4ms/step - loss: 2.4200 - accuracy: 0.0064 - val_loss: 9.2777 - val_accuracy: 0.0000e+00\n",
      "Epoch 27/50\n",
      "63/63 [==============================] - 0s 4ms/step - loss: 2.3921 - accuracy: 0.0069 - val_loss: 9.4865 - val_accuracy: 0.0000e+00\n",
      "Epoch 28/50\n",
      "63/63 [==============================] - 0s 4ms/step - loss: 2.3515 - accuracy: 0.0065 - val_loss: 8.9914 - val_accuracy: 0.0000e+00\n",
      "Epoch 29/50\n",
      "63/63 [==============================] - 0s 4ms/step - loss: 2.3250 - accuracy: 0.0068 - val_loss: 8.6465 - val_accuracy: 0.0000e+00\n",
      "Epoch 30/50\n",
      "63/63 [==============================] - 0s 4ms/step - loss: 2.3475 - accuracy: 0.0059 - val_loss: 9.0453 - val_accuracy: 0.0000e+00\n",
      "Epoch 31/50\n",
      "63/63 [==============================] - 0s 4ms/step - loss: 2.3004 - accuracy: 0.0068 - val_loss: 8.5551 - val_accuracy: 0.0000e+00\n",
      "Epoch 32/50\n",
      "63/63 [==============================] - 0s 4ms/step - loss: 2.2643 - accuracy: 0.0066 - val_loss: 8.8008 - val_accuracy: 0.0000e+00\n",
      "Epoch 33/50\n",
      "63/63 [==============================] - 0s 4ms/step - loss: 2.1945 - accuracy: 0.0065 - val_loss: 8.6188 - val_accuracy: 0.0000e+00\n",
      "Epoch 34/50\n",
      "63/63 [==============================] - 0s 4ms/step - loss: 2.3329 - accuracy: 0.0063 - val_loss: 8.8417 - val_accuracy: 0.0000e+00\n",
      "Epoch 35/50\n",
      "63/63 [==============================] - 0s 4ms/step - loss: 2.3037 - accuracy: 0.0064 - val_loss: 8.8955 - val_accuracy: 0.0000e+00\n",
      "Epoch 36/50\n",
      "63/63 [==============================] - 0s 4ms/step - loss: 2.3076 - accuracy: 0.0066 - val_loss: 8.5847 - val_accuracy: 0.0000e+00\n",
      "Epoch 37/50\n",
      "63/63 [==============================] - 0s 4ms/step - loss: 2.1511 - accuracy: 0.0064 - val_loss: 8.8637 - val_accuracy: 0.0000e+00\n",
      "Epoch 38/50\n",
      "63/63 [==============================] - 0s 4ms/step - loss: 2.2538 - accuracy: 0.0064 - val_loss: 8.5143 - val_accuracy: 0.0000e+00\n",
      "Epoch 39/50\n",
      "63/63 [==============================] - 0s 4ms/step - loss: 2.1977 - accuracy: 0.0059 - val_loss: 8.3284 - val_accuracy: 0.0000e+00\n",
      "Epoch 40/50\n",
      "63/63 [==============================] - 0s 4ms/step - loss: 2.2665 - accuracy: 0.0063 - val_loss: 8.6290 - val_accuracy: 0.0000e+00\n",
      "Epoch 41/50\n",
      "63/63 [==============================] - 0s 4ms/step - loss: 2.1914 - accuracy: 0.0066 - val_loss: 8.2570 - val_accuracy: 0.0000e+00\n",
      "Epoch 42/50\n",
      "63/63 [==============================] - 0s 4ms/step - loss: 2.2112 - accuracy: 0.0064 - val_loss: 8.4387 - val_accuracy: 0.0000e+00\n",
      "Epoch 43/50\n",
      "63/63 [==============================] - 0s 4ms/step - loss: 2.2092 - accuracy: 0.0065 - val_loss: 8.7998 - val_accuracy: 0.0000e+00\n",
      "Epoch 44/50\n",
      "63/63 [==============================] - 0s 4ms/step - loss: 2.1351 - accuracy: 0.0063 - val_loss: 8.4125 - val_accuracy: 0.0000e+00\n",
      "Epoch 45/50\n",
      "63/63 [==============================] - 0s 4ms/step - loss: 2.1414 - accuracy: 0.0064 - val_loss: 8.3657 - val_accuracy: 0.0000e+00\n",
      "Epoch 46/50\n",
      "63/63 [==============================] - 0s 4ms/step - loss: 2.1495 - accuracy: 0.0063 - val_loss: 8.3269 - val_accuracy: 0.0000e+00\n",
      "Epoch 47/50\n",
      "63/63 [==============================] - 0s 4ms/step - loss: 2.1988 - accuracy: 0.0065 - val_loss: 8.8247 - val_accuracy: 0.0000e+00\n",
      "Epoch 48/50\n",
      "63/63 [==============================] - 0s 4ms/step - loss: 2.1144 - accuracy: 0.0066 - val_loss: 8.2216 - val_accuracy: 0.0000e+00\n",
      "Epoch 49/50\n",
      "63/63 [==============================] - 0s 4ms/step - loss: 2.1698 - accuracy: 0.0066 - val_loss: 8.8071 - val_accuracy: 0.0000e+00\n",
      "Epoch 50/50\n",
      "63/63 [==============================] - 0s 4ms/step - loss: 2.1883 - accuracy: 0.0068 - val_loss: 8.4404 - val_accuracy: 0.0000e+00\n",
      "CPU times: user 26.7 s, sys: 6.73 s, total: 33.4 s\n",
      "Wall time: 14.7 s\n"
     ]
    },
    {
     "data": {
      "text/plain": [
       "<keras.callbacks.History at 0x7f822314e970>"
      ]
     },
     "execution_count": 108,
     "metadata": {},
     "output_type": "execute_result"
    }
   ],
   "source": [
    "%%time\n",
    "model_gru.fit(\n",
    "    x_train_sca, y_train,\n",
    "    batch_size = 128,\n",
    "    epochs = 50,\n",
    "    validation_data = (x_val_sca, y_val)\n",
    ")"
   ]
  },
  {
   "cell_type": "code",
   "execution_count": 109,
   "id": "c44102fb",
   "metadata": {},
   "outputs": [],
   "source": [
    "prediction_gru = model_gru.predict(x_val_sca)"
   ]
  },
  {
   "cell_type": "code",
   "execution_count": 110,
   "id": "e9cf399b",
   "metadata": {},
   "outputs": [
    {
     "name": "stdout",
     "output_type": "stream",
     "text": [
      "0.738656462056924\n",
      "8.440413299793494\n"
     ]
    }
   ],
   "source": [
    "r2 = r2_score(prediction_gru, y_val)\n",
    "mse = mean_squared_error(prediction_gru, y_val)\n",
    "print(r2)\n",
    "print(mse)"
   ]
  },
  {
   "cell_type": "code",
   "execution_count": 111,
   "id": "83a2cccc",
   "metadata": {},
   "outputs": [],
   "source": [
    "prediction_gru = model_gru.predict(x_test_sca)"
   ]
  },
  {
   "cell_type": "code",
   "execution_count": 112,
   "id": "8920f1b6",
   "metadata": {},
   "outputs": [],
   "source": [
    "pd.DataFrame(prediction_gru).to_csv('gru.csv',index = False)"
   ]
  },
  {
   "cell_type": "code",
   "execution_count": 113,
   "id": "07f85624",
   "metadata": {},
   "outputs": [
    {
     "name": "stdout",
     "output_type": "stream",
     "text": [
      "0.7967611248331703\n",
      "6.830583083420782\n"
     ]
    }
   ],
   "source": [
    "r2 = r2_score(prediction_gru, y_test)\n",
    "mse = mean_squared_error(prediction_gru, y_test)\n",
    "print(r2)\n",
    "print(mse)"
   ]
  },
  {
   "cell_type": "code",
   "execution_count": 114,
   "id": "aabb35cd",
   "metadata": {},
   "outputs": [
    {
     "name": "stdout",
     "output_type": "stream",
     "text": [
      "Model: \"sequential_5\"\n",
      "_________________________________________________________________\n",
      " Layer (type)                Output Shape              Param #   \n",
      "=================================================================\n",
      " simple_rnn_4 (SimpleRNN)    (None, 1, 100)            11300     \n",
      "                                                                 \n",
      " dropout_10 (Dropout)        (None, 1, 100)            0         \n",
      "                                                                 \n",
      " simple_rnn_5 (SimpleRNN)    (None, 50)                7550      \n",
      "                                                                 \n",
      " dropout_11 (Dropout)        (None, 50)                0         \n",
      "                                                                 \n",
      " dense_5 (Dense)             (None, 1)                 51        \n",
      "                                                                 \n",
      "=================================================================\n",
      "Total params: 18,901\n",
      "Trainable params: 18,901\n",
      "Non-trainable params: 0\n",
      "_________________________________________________________________\n"
     ]
    }
   ],
   "source": [
    "model_rnn.summary()"
   ]
  },
  {
   "cell_type": "code",
   "execution_count": 115,
   "id": "b98f4311",
   "metadata": {},
   "outputs": [
    {
     "name": "stdout",
     "output_type": "stream",
     "text": [
      "Model: \"sequential_7\"\n",
      "_________________________________________________________________\n",
      " Layer (type)                Output Shape              Param #   \n",
      "=================================================================\n",
      " gru_2 (GRU)                 (None, 1, 100)            34200     \n",
      "                                                                 \n",
      " dropout_14 (Dropout)        (None, 1, 100)            0         \n",
      "                                                                 \n",
      " gru_3 (GRU)                 (None, 50)                22800     \n",
      "                                                                 \n",
      " dropout_15 (Dropout)        (None, 50)                0         \n",
      "                                                                 \n",
      " dense_7 (Dense)             (None, 1)                 51        \n",
      "                                                                 \n",
      "=================================================================\n",
      "Total params: 57,051\n",
      "Trainable params: 57,051\n",
      "Non-trainable params: 0\n",
      "_________________________________________________________________\n"
     ]
    }
   ],
   "source": [
    "model_gru.summary()"
   ]
  },
  {
   "cell_type": "code",
   "execution_count": 116,
   "id": "b9bebdbf",
   "metadata": {},
   "outputs": [
    {
     "name": "stdout",
     "output_type": "stream",
     "text": [
      "Model: \"sequential_6\"\n",
      "_________________________________________________________________\n",
      " Layer (type)                Output Shape              Param #   \n",
      "=================================================================\n",
      " lstm_4 (LSTM)               (None, 1, 100)            45200     \n",
      "                                                                 \n",
      " dropout_12 (Dropout)        (None, 1, 100)            0         \n",
      "                                                                 \n",
      " lstm_5 (LSTM)               (None, 50)                30200     \n",
      "                                                                 \n",
      " dropout_13 (Dropout)        (None, 50)                0         \n",
      "                                                                 \n",
      " dense_6 (Dense)             (None, 1)                 51        \n",
      "                                                                 \n",
      "=================================================================\n",
      "Total params: 75,451\n",
      "Trainable params: 75,451\n",
      "Non-trainable params: 0\n",
      "_________________________________________________________________\n"
     ]
    }
   ],
   "source": [
    "model_lstm.summary()"
   ]
  },
  {
   "cell_type": "code",
   "execution_count": null,
   "id": "38c19454",
   "metadata": {},
   "outputs": [],
   "source": []
  }
 ],
 "metadata": {
  "kernelspec": {
   "display_name": "Python 3 (ipykernel)",
   "language": "python",
   "name": "python3"
  },
  "language_info": {
   "codemirror_mode": {
    "name": "ipython",
    "version": 3
   },
   "file_extension": ".py",
   "mimetype": "text/x-python",
   "name": "python",
   "nbconvert_exporter": "python",
   "pygments_lexer": "ipython3",
   "version": "3.9.13"
  }
 },
 "nbformat": 4,
 "nbformat_minor": 5
}
